{
 "cells": [
  {
   "cell_type": "markdown",
   "id": "a76de323-1578-40e9-a816-0b40083cd37e",
   "metadata": {},
   "source": [
    "# Gendist\n",
    "## Zero-shot on trenches"
   ]
  },
  {
   "cell_type": "code",
   "execution_count": 2,
   "id": "a85ef1f8-cf3b-4776-b034-0e6953826be5",
   "metadata": {},
   "outputs": [
    {
     "name": "stdout",
     "output_type": "stream",
     "text": [
      "/home/gerardoduran/documents/shift-happens/gendist/experiments\n"
     ]
    }
   ],
   "source": [
    "%cd ../gendist/experiments\n",
    "%load_ext autoreload\n",
    "%autoreload 2"
   ]
  },
  {
   "cell_type": "code",
   "execution_count": 3,
   "id": "b3e8cb47-290e-4ec9-a679-c22c23709eba",
   "metadata": {},
   "outputs": [],
   "source": [
    "import jax\n",
    "import gendist\n",
    "import optax\n",
    "import torchvision\n",
    "import numpy as np\n",
    "import mnist_rotation_meta as metaexp\n",
    "from tqdm.notebook import tqdm\n",
    "from sklearn.decomposition import PCA"
   ]
  },
  {
   "cell_type": "code",
   "execution_count": 39,
   "id": "b3934694-06cc-400d-bb3e-f7f8a8ea021b",
   "metadata": {},
   "outputs": [],
   "source": [
    "%config InlineBackend.figure_format = \"retina\""
   ]
  },
  {
   "cell_type": "code",
   "execution_count": 4,
   "id": "724b00f1-eb2d-460c-a548-3afafdae1861",
   "metadata": {},
   "outputs": [],
   "source": [
    "def predict_shifted_dataset(ix_seed, X_batch, processor, config, wmodel, wparams, dmodel, proj, fn_reconstruct):\n",
    "    \"\"\"\n",
    "    Parameters\n",
    "    ----------\n",
    "    ix_seed: array\n",
    "    X_batch: array\n",
    "    ...\n",
    "    wmodel: model for the latent space\n",
    "    wparams: trained weights for the latent space\n",
    "    dmodel: model for the observed space\n",
    "    dparams: trained model for the observed weights\n",
    "    \"\"\"\n",
    "    x_seed = X_batch[ix]\n",
    "    x_shift = processor.process_single(x_seed, **config).ravel()\n",
    "    predicted_weights = wmodel.apply(wparams, x_shift)\n",
    "    predicted_weights = proj.inverse_transform(predicted_weights)\n",
    "    predicted_weights = fn_reconstruct(predicted_weights)\n",
    "    \n",
    "    X_batch_shift = processor(X_batch, config)\n",
    "    y_batch_hat = dmodel.apply(predicted_weights, X_batch_shift)\n",
    "    \n",
    "    return y_batch_hat"
   ]
  },
  {
   "cell_type": "code",
   "execution_count": 5,
   "id": "caf2aceb-808c-4c3c-a294-a9fd6384d901",
   "metadata": {},
   "outputs": [],
   "source": [
    "filename_data_model = \"../../outputs/2203221129/output/data-model-result.pkl\"\n",
    "path_experiment = \"../../outputs/2203221129/\""
   ]
  },
  {
   "cell_type": "code",
   "execution_count": 6,
   "id": "987648da-0270-4700-8d86-33befd42fe9a",
   "metadata": {},
   "outputs": [],
   "source": [
    "output = metaexp.load_train_combo(filename_data_model)\n",
    "target_params = output[\"params\"]\n",
    "list_configs = output[\"configs\"]\n",
    "fn_reconstruct_params = output[\"fn_reconstruct\"]"
   ]
  },
  {
   "cell_type": "code",
   "execution_count": 7,
   "id": "a2e4a821-0a48-4dd9-b6a8-0e82626fa3a5",
   "metadata": {},
   "outputs": [],
   "source": [
    "processing_class = gendist.processing.Factory(metaexp.rotate)\n",
    "key = jax.random.PRNGKey(314)\n",
    "key, key_subset = jax.random.split(key)"
   ]
  },
  {
   "cell_type": "code",
   "execution_count": 8,
   "id": "45383034-8114-4587-a6c4-a8d623b7433c",
   "metadata": {},
   "outputs": [],
   "source": [
    "n_components = 50\n",
    "n_classes = 10\n",
    "n_train_subset = 6_000\n",
    "n_configs = len(list_configs)"
   ]
  },
  {
   "cell_type": "code",
   "execution_count": 9,
   "id": "74a7faac-24a4-46a1-874c-86caeb82f16d",
   "metadata": {},
   "outputs": [
    {
     "name": "stderr",
     "output_type": "stream",
     "text": [
      "tcmalloc: large alloc 5644804096 bytes == 0x55d5fe3c8000 @  0x7efd35f2b680 0x7efd35f4c824 0x7efd146771ed 0x7efd14677267 0x7efd146b9c1b 0x7efd146b9ed8 0x7efd1476b177 0x7efd1476cdec 0x7efd148b2652 0x55d536521e88 0x55d5366a35d8 0x7efd14773ff7 0x55d53660f520 0x55d53664a568 0x55d5366048c3 0x55d53657c1ca 0x55d536603b32 0x55d5366b3ddc 0x55d536604b5b 0x55d5366e98fe 0x55d5365e2581 0x55d53657c3be 0x55d5365f4d34 0x55d53664e3ff 0x55d5365f4d34 0x55d53664e3ff 0x55d5365f4d34 0x55d5365fe0a3 0x55d53657c1a4 0x55d5366048c3 0x55d53657c3be\n",
      "tcmalloc: large alloc 2822406144 bytes == 0x55d7eff92000 @  0x7efd35f2b680 0x7efd35f4c824 0x7efd146771ed 0x7efd14677267 0x7efd146b9c1b 0x7efd14756b5e 0x7efd1475737a 0x7efd147575ae 0x55d5365c3e64 0x55d5365bd7e4 0x7efd146a6a74 0x55d5365c3e88 0x55d5365bde4f 0x55d536649937 0x55d536603b32 0x55d536604697 0x55d53657bf00 0x55d5366048c3 0x55d53657c1a4 0x55d536603b32 0x55d536604697 0x55d5365f460a 0x55d5365f49d5 0x55d5365bde4f 0x55d536649937 0x55d5366048c3 0x55d53657c1ca 0x55d536603b32 0x55d5366b3ddc 0x55d536604b5b 0x55d5366e98fe\n"
     ]
    }
   ],
   "source": [
    "mnist_train = torchvision.datasets.MNIST(root=\".\", train=True, download=True)\n",
    "X_train = np.array(mnist_train.data) / 255\n",
    "X_train = metaexp.configure_covariates(key_subset, metaexp.processing_class, X_train, list_configs, n_train_subset)\n",
    "\n",
    "n_train, *elem_dims = X_train.shape"
   ]
  },
  {
   "cell_type": "code",
   "execution_count": 10,
   "id": "a253af3d-8029-4f50-b91d-cd34f3c7ecad",
   "metadata": {},
   "outputs": [],
   "source": [
    "subset_configs = list_configs[::3]\n",
    "subset_target_params = target_params[::3]\n",
    "X_train_subset = X_train[:, ::3, :]"
   ]
  },
  {
   "cell_type": "code",
   "execution_count": 11,
   "id": "2bf6152f-3c33-4bac-820d-b8292ccd9cc6",
   "metadata": {},
   "outputs": [],
   "source": [
    "pca = PCA(n_components=n_components)\n",
    "projected_params = pca.fit_transform(subset_target_params)[None, ...]"
   ]
  },
  {
   "cell_type": "code",
   "execution_count": 12,
   "id": "75e1665f-c52e-4867-975c-eedb2334b35d",
   "metadata": {},
   "outputs": [],
   "source": [
    "alpha = 0.01\n",
    "n_epochs = 150\n",
    "batch_size = 2000\n",
    "tx = optax.adam(learning_rate=alpha)\n",
    "lossfn = gendist.training.make_multi_output_loss_func\n",
    "meta_model = gendist.models.MLPWeightsV1(n_components)\n",
    "trainer = gendist.training.TrainingMeta(meta_model, lossfn, tx)"
   ]
  },
  {
   "cell_type": "code",
   "execution_count": 13,
   "id": "a76ac8ab-7678-44e5-98f7-188e09abc5d6",
   "metadata": {},
   "outputs": [
    {
     "data": {
      "application/vnd.jupyter.widget-view+json": {
       "model_id": "f8cdd871e39f4274bba81b8feeb40b50",
       "version_major": 2,
       "version_minor": 0
      },
      "text/plain": [
       "  0%|          | 0/150 [00:00<?, ?it/s]"
      ]
     },
     "metadata": {},
     "output_type": "display_data"
    }
   ],
   "source": [
    "meta_output = trainer.fit(key, X_train_subset, projected_params, n_epochs, batch_size)"
   ]
  },
  {
   "cell_type": "markdown",
   "id": "b200e84b-c8fb-40a8-b8b3-10bff0e33441",
   "metadata": {},
   "source": [
    "# Testing model\n",
    "\n",
    "`7, 2, 1, 0, 4`"
   ]
  },
  {
   "cell_type": "code",
   "execution_count": 14,
   "id": "2dde595c-9c85-4023-928a-e7f0471fd619",
   "metadata": {},
   "outputs": [],
   "source": [
    "import os\n",
    "from loguru import logger\n",
    "from datetime import datetime"
   ]
  },
  {
   "cell_type": "code",
   "execution_count": 15,
   "id": "fc054aa6-2f4d-4041-b6e5-aee41d48fa6c",
   "metadata": {},
   "outputs": [],
   "source": [
    "data_model = gendist.models.MLPDataV1(10)"
   ]
  },
  {
   "cell_type": "code",
   "execution_count": 16,
   "id": "2c37230e-e89b-400c-91f1-4065eb9d611d",
   "metadata": {},
   "outputs": [],
   "source": [
    "mnist_test = torchvision.datasets.MNIST(root=\".\", train=False, download=True)\n",
    "X_test = np.array(mnist_test.data) / 255\n",
    "y_test = np.array(mnist_test.targets)"
   ]
  },
  {
   "cell_type": "code",
   "execution_count": 17,
   "id": "cec84b30-d9db-4617-8cfe-184b2ddef72f",
   "metadata": {},
   "outputs": [
    {
     "data": {
      "text/plain": [
       "1"
      ]
     },
     "execution_count": 17,
     "metadata": {},
     "output_type": "execute_result"
    }
   ],
   "source": [
    "# now_str = datetime.now().strftime(\"%Y%m%d%H%M\")\n",
    "# file_log = f\"trench_test_{now_str}.log\"\n",
    "\n",
    "file_log = \"trench_test_202203241311.log\"\n",
    "path_logger = os.path.join(path_experiment, \"logs\", file_log)\n",
    "logger.add(path_logger, rotation=\"5mb\")"
   ]
  },
  {
   "cell_type": "code",
   "execution_count": 18,
   "id": "8214e866-2509-4067-82bc-fbe13047e1f9",
   "metadata": {},
   "outputs": [
    {
     "data": {
      "application/vnd.jupyter.widget-view+json": {
       "model_id": "2664e7bac205424290d79f55970dc273",
       "version_major": 2,
       "version_minor": 0
      },
      "text/plain": [
       "  0%|          | 0/27 [00:00<?, ?it/s]"
      ]
     },
     "metadata": {},
     "output_type": "display_data"
    },
    {
     "name": "stderr",
     "output_type": "stream",
     "text": [
      "2022-03-24 15:14:24.163 | INFO     | __main__:<cell line: 4>:20 - angle=297.1812 | 97.38%|77.63%|96.74%|97.26%|96.98%\n",
      "2022-03-24 15:15:04.429 | INFO     | __main__:<cell line: 4>:20 - angle=299.5973 | 82.59%|25.88%|91.26%|78.35%|40.28%\n",
      "2022-03-24 15:15:44.609 | INFO     | __main__:<cell line: 4>:20 - angle=302.0134 | 95.82%|26.79%|89.16%|93.39%|83.70%\n",
      "2022-03-24 15:16:24.589 | INFO     | __main__:<cell line: 4>:20 - angle=304.4295 | 97.87%|50.93%|97.90%|97.69%|97.31%\n",
      "2022-03-24 15:17:04.492 | INFO     | __main__:<cell line: 4>:20 - angle=306.8456 | 94.04%|25.23%|97.44%|50.91%|51.91%\n",
      "2022-03-24 15:17:44.965 | INFO     | __main__:<cell line: 4>:20 - angle=309.2617 | 93.61%|30.79%|97.26%|85.92%|93.98%\n",
      "2022-03-24 15:18:24.769 | INFO     | __main__:<cell line: 4>:20 - angle=311.6779 | 97.87%|43.09%|96.88%|98.05%|97.16%\n",
      "https://symbolize.stripped_domain/r/?trace=7efd35d9fa65,7efd35da13bf&map= \n",
      "*** SIGTERM received by PID 3174669 (TID 3174669) on cpu 95 from PID 3169072; stack trace: ***\n",
      "PC: @     0x7efd35d9fa65  (unknown)  sem_post@@GLIBC_2.2.5\n",
      "    @     0x7efd256077fa        992  (unknown)\n",
      "    @     0x7efd35da13c0  (unknown)  (unknown)\n",
      "    @ ... and at least 1 more frames\n",
      "https://symbolize.stripped_domain/r/?trace=7efd35d9fa65,7efd256077f9,7efd35da13bf&map=7a511a57244151c993b16b37978e7ed7:7efd16c2f000-7efd25971d50 \n",
      "E0324 15:18:57.033704 3174669 coredump_hook.cc:320] RAW: Remote crash gathering disabled for SIGTERM.\n",
      "E0324 15:18:57.050242 3174669 process_state.cc:770] RAW: Raising signal 15 with default behavior\n",
      "2022-03-24 15:19:05.350 | INFO     | __main__:<cell line: 4>:20 - angle=314.0940 | 93.24%|32.44%|86.46%|63.72%|87.07%\n",
      "2022-03-24 15:19:45.252 | INFO     | __main__:<cell line: 4>:20 - angle=316.5101 | 91.47%|34.39%|94.27%|73.77%|78.01%\n",
      "2022-03-24 15:20:25.247 | INFO     | __main__:<cell line: 4>:20 - angle=318.9262 | 98.13%|88.07%|97.85%|95.79%|97.18%\n",
      "2022-03-24 15:21:05.095 | INFO     | __main__:<cell line: 4>:20 - angle=321.3423 | 97.50%|27.45%|79.14%|50.58%|43.90%\n",
      "2022-03-24 15:21:45.284 | INFO     | __main__:<cell line: 4>:20 - angle=323.7584 | 91.29%|32.53%|84.39%|61.63%|46.35%\n",
      "2022-03-24 15:22:25.574 | INFO     | __main__:<cell line: 4>:20 - angle=326.1745 | 98.13%|77.50%|98.03%|97.78%|97.81%\n",
      "2022-03-24 15:23:05.386 | INFO     | __main__:<cell line: 4>:20 - angle=328.5906 | 72.44%|73.32%|96.45%|70.20%|93.81%\n",
      "2022-03-24 15:23:45.255 | INFO     | __main__:<cell line: 4>:20 - angle=331.0067 | 90.73%|32.90%|94.22%|90.68%|96.42%\n",
      "2022-03-24 15:24:25.519 | INFO     | __main__:<cell line: 4>:20 - angle=333.4228 | 97.16%|88.53%|97.97%|96.60%|98.20%\n",
      "https://symbolize.stripped_domain/r/?trace=55d536604ac1,7efd35da13bf&map= \n",
      "*** SIGTERM received by PID 3179001 (TID 3179001) on cpu 29 from PID 3169072; stack trace: ***\n",
      "PC: @     0x55d536604ac1  (unknown)  _PyFunction_Vectorcall\n",
      "    @     0x7efd256077fa        992  (unknown)\n",
      "    @     0x7efd35da13c0  (unknown)  (unknown)\n",
      "    @ ... and at least 1 more frames\n",
      "https://symbolize.stripped_domain/r/?trace=55d536604ac1,7efd256077f9,7efd35da13bf&map=7a511a57244151c993b16b37978e7ed7:7efd16c2f000-7efd25971d50 \n",
      "E0324 15:24:41.195282 3179001 coredump_hook.cc:320] RAW: Remote crash gathering disabled for SIGTERM.\n",
      "E0324 15:24:41.210109 3179001 process_state.cc:770] RAW: Raising signal 15 with default behavior\n",
      "2022-03-24 15:25:05.917 | INFO     | __main__:<cell line: 4>:20 - angle=335.8389 | 91.99%|31.25%|92.36%|57.63%|82.42%\n",
      "2022-03-24 15:25:46.086 | INFO     | __main__:<cell line: 4>:20 - angle=338.2550 | 97.24%|29.09%|95.22%|95.31%|78.77%\n",
      "2022-03-24 15:26:26.856 | INFO     | __main__:<cell line: 4>:20 - angle=340.6711 | 97.79%|81.36%|98.01%|98.03%|97.24%\n",
      "2022-03-24 15:27:07.037 | INFO     | __main__:<cell line: 4>:20 - angle=343.0872 | 95.91%|68.29%|96.26%|85.94%|76.22%\n",
      "2022-03-24 15:27:47.134 | INFO     | __main__:<cell line: 4>:20 - angle=345.5034 | 96.57%|48.39%|93.77%|89.54%|89.93%\n",
      "2022-03-24 15:28:27.164 | INFO     | __main__:<cell line: 4>:20 - angle=347.9195 | 98.07%|79.92%|96.96%|97.71%|94.87%\n",
      "2022-03-24 15:29:07.077 | INFO     | __main__:<cell line: 4>:20 - angle=350.3356 | 96.49%|81.58%|94.15%|71.19%|94.27%\n",
      "https://symbolize.stripped_domain/r/?trace=7efd35d9fa65,7efd35da13bf&map= \n",
      "*** SIGTERM received by PID 3182752 (TID 3182752) on cpu 84 from PID 3169072; stack trace: ***\n",
      "PC: @     0x7efd35d9fa65  (unknown)  sem_post@@GLIBC_2.2.5\n",
      "    @     0x7efd256077fa        992  (unknown)\n",
      "    @     0x7efd35da13c0  (unknown)  (unknown)\n",
      "    @ ... and at least 1 more frames\n",
      "https://symbolize.stripped_domain/r/?trace=7efd35d9fa65,7efd256077f9,7efd35da13bf&map=7a511a57244151c993b16b37978e7ed7:7efd16c2f000-7efd25971d50 \n",
      "E0324 15:29:38.687276 3182752 coredump_hook.cc:320] RAW: Remote crash gathering disabled for SIGTERM.\n",
      "E0324 15:29:38.702124 3182752 process_state.cc:770] RAW: Raising signal 15 with default behavior\n",
      "2022-03-24 15:29:47.358 | INFO     | __main__:<cell line: 4>:20 - angle=352.7517 | 97.24%|72.67%|97.31%|69.90%|97.26%\n",
      "2022-03-24 15:30:27.829 | INFO     | __main__:<cell line: 4>:20 - angle=355.1678 | 98.31%|95.06%|97.95%|93.89%|96.59%\n",
      "2022-03-24 15:31:07.846 | INFO     | __main__:<cell line: 4>:20 - angle=357.5839 | 98.18%|95.08%|97.95%|96.41%|87.50%\n",
      "2022-03-24 15:31:47.902 | INFO     | __main__:<cell line: 4>:20 - angle=360.0000 | 98.18%|87.17%|97.92%|96.39%|87.54%\n"
     ]
    }
   ],
   "source": [
    "accuracy_configs_learned = []\n",
    "ixs = np.arange(5)\n",
    "\n",
    "for config in tqdm(list_configs[123:]):\n",
    "    acc_dict = {}\n",
    "    for ix in ixs:\n",
    "        y_test_hat = predict_shifted_dataset(ix, X_test, metaexp.processing_class, config,\n",
    "                                             meta_model, meta_output[\"params\"],\n",
    "                                             data_model, pca, fn_reconstruct_params)\n",
    "        y_test_hat = y_test_hat.argmax(axis=1)\n",
    "        accuracy_learned = (y_test_hat == y_test).mean().item()\n",
    "        acc_dict[ix] = accuracy_learned\n",
    "        \n",
    "    accuracy_configs_learned.append(acc_dict)\n",
    "    \n",
    "    angle = config[\"angle\"]\n",
    "    logger_row = \"|\".join([format(v, \"0.2%\") for v in acc_dict.values()])\n",
    "    logger_row = f\"{angle=:0.4f} | \" + logger_row \n",
    "    \n",
    "    logger.info(logger_row)\n"
   ]
  },
  {
   "cell_type": "code",
   "execution_count": null,
   "id": "314f16a4-b8f2-4f69-96cd-5e543f3a2961",
   "metadata": {},
   "outputs": [],
   "source": [
    "path_logger"
   ]
  },
  {
   "cell_type": "code",
   "execution_count": null,
   "id": "8512265a-4739-42a3-9e50-75a3bd9c57fe",
   "metadata": {},
   "outputs": [],
   "source": [
    "import re\n",
    "with open(\"projection-accuracy-trenches.log\", \"r\") as f:\n",
    "    logs = f.read()\n",
    "    \n",
    "regexp = re.compile(r\"radius=([0-9\\.]+) \\| accuracy_learned=([0-9\\.]+)\")\n",
    "\n",
    "log_vals = []\n",
    "for line in logs.split(\"\\n\")[:-1]:\n",
    "    rad = regexp.search(line)[1]\n",
    "    acc = regexp.search(line)[2]\n",
    "    log_vals.append({\"radius\": float(rad), \"accuracy\": float(acc)})\n",
    "\n",
    "log_df = pd.DataFrame(log_vals).set_index(\"radius\")\n",
    "log_df.plot()\n",
    "plt.axvline(x=1.0, c=\"tab:gray\", linestyle=\"--\")\n",
    "plt.axvline(x=2.0, c=\"tab:gray\", linestyle=\"--\")\n",
    "plt.title(\"One-shot weight-prediction\")"
   ]
  },
  {
   "cell_type": "code",
   "execution_count": 70,
   "id": "03a95464-2c20-419b-8d86-86b02aaa86fb",
   "metadata": {},
   "outputs": [
    {
     "name": "stdout",
     "output_type": "stream",
     "text": [
      "\u001b[01;34m../../outputs\u001b[00m\n",
      "├── \u001b[01;34m2203221129\u001b[00m\n",
      "│   ├── \u001b[01;34mlogs\u001b[00m\n",
      "│   │   ├── trench_test_202203231830.log\n",
      "│   │   └── trench_test_202203241311.log\n",
      "│   └── \u001b[01;34moutput\u001b[00m\n",
      "│       ├── data-model-result.pkl\n",
      "│       ├── meta-model-result.pkl\n",
      "│       └── meta-model.pkl\n",
      "├── \u001b[01;34m2203232215\u001b[00m\n",
      "│   ├── \u001b[01;34mlogs\u001b[00m\n",
      "│   └── \u001b[01;34moutput\u001b[00m\n",
      "│       └── data-model-result.pkl\n",
      "├── \u001b[01;34m2203232259\u001b[00m\n",
      "│   ├── \u001b[01;34mlogs\u001b[00m\n",
      "│   └── \u001b[01;34moutput\u001b[00m\n",
      "│       └── data-model-result.pkl\n",
      "├── \u001b[01;34m2203232346\u001b[00m\n",
      "│   ├── \u001b[01;34mlogs\u001b[00m\n",
      "│   └── \u001b[01;34moutput\u001b[00m\n",
      "│       └── data-model-result.pkl\n",
      "├── \u001b[01;34m2203240033\u001b[00m\n",
      "│   ├── \u001b[01;34mlogs\u001b[00m\n",
      "│   └── \u001b[01;34moutput\u001b[00m\n",
      "│       └── data-model-result.pkl\n",
      "├── \u001b[01;34m2203240119\u001b[00m\n",
      "│   ├── \u001b[01;34mlogs\u001b[00m\n",
      "│   └── \u001b[01;34moutput\u001b[00m\n",
      "│       └── data-model-result.pkl\n",
      "├── \u001b[01;34m2203240206\u001b[00m\n",
      "│   ├── \u001b[01;34mlogs\u001b[00m\n",
      "│   └── \u001b[01;34moutput\u001b[00m\n",
      "│       └── data-model-result.pkl\n",
      "├── \u001b[01;34m2203240253\u001b[00m\n",
      "│   ├── \u001b[01;34mlogs\u001b[00m\n",
      "│   └── \u001b[01;34moutput\u001b[00m\n",
      "│       └── data-model-result.pkl\n",
      "├── \u001b[01;34m2203240341\u001b[00m\n",
      "│   ├── \u001b[01;34mlogs\u001b[00m\n",
      "│   └── \u001b[01;34moutput\u001b[00m\n",
      "│       └── data-model-result.pkl\n",
      "├── \u001b[01;34m2203240428\u001b[00m\n",
      "│   ├── \u001b[01;34mlogs\u001b[00m\n",
      "│   └── \u001b[01;34moutput\u001b[00m\n",
      "│       └── data-model-result.pkl\n",
      "└── \u001b[01;34m2203240516\u001b[00m\n",
      "    ├── \u001b[01;34mlogs\u001b[00m\n",
      "    └── \u001b[01;34moutput\u001b[00m\n",
      "        └── data-model-result.pkl\n",
      "\n",
      "33 directories, 15 files\n"
     ]
    }
   ],
   "source": [
    "!tree ../../outputs"
   ]
  },
  {
   "cell_type": "markdown",
   "id": "c134c8e0-f9f5-45bd-a314-bcb45b6b15b4",
   "metadata": {},
   "source": [
    "## Plotting results"
   ]
  },
  {
   "cell_type": "code",
   "execution_count": 103,
   "id": "0f3d0787-077d-417c-8d22-11aaf180b71f",
   "metadata": {},
   "outputs": [],
   "source": [
    "import re\n",
    "import pandas as pd\n",
    "import seaborn as sns\n",
    "\n",
    "import matplotlib.pyplot as plt"
   ]
  },
  {
   "cell_type": "code",
   "execution_count": 29,
   "id": "e76cd59e-29d2-44b5-af4d-655c082620fa",
   "metadata": {},
   "outputs": [],
   "source": [
    "path_full_logs = \"../../outputs/2203221129/logs/trench_test_202203231830.log\"\n",
    "path_trench_logs = \"../../outputs/2203221129/logs/trench_test_202203241311.log\""
   ]
  },
  {
   "cell_type": "code",
   "execution_count": 46,
   "id": "5d011b56-8026-4541-bef6-bfd8da0d84d8",
   "metadata": {},
   "outputs": [],
   "source": [
    "with open(path_full_logs, \"r\") as f:\n",
    "    logs = f.read()\n",
    "\n",
    "regexp_angle = re.compile(r\"angle=([0-9\\.]+)\")\n",
    "regexp_acc = re.compile(r\"([0-9\\.]+)%\")\n",
    "\n",
    "\n",
    "digits = [7, 2, 1, 0, 4]\n",
    "rows = []\n",
    "for line in logs.split(\"\\n\")[:-1]:\n",
    "    accuracies = regexp_acc.findall(line)\n",
    "    angle, *_ = regexp_angle.findall(line)\n",
    "    \n",
    "    row_data = {digit: float(val) / 100 for digit, val in zip(digits,  accuracies)}\n",
    "    row_data[\"angle\"] = float(angle)\n",
    "    \n",
    "    rows.append(row_data)"
   ]
  },
  {
   "cell_type": "code",
   "execution_count": 47,
   "id": "7112533b-7dee-412f-a0c3-5cb5363c8d0c",
   "metadata": {},
   "outputs": [],
   "source": [
    "logs_full = pd.DataFrame(rows).set_index(\"angle\")"
   ]
  },
  {
   "cell_type": "code",
   "execution_count": 45,
   "id": "60e33b0a-9ec1-4eb4-8d73-796cca7ea05b",
   "metadata": {},
   "outputs": [],
   "source": [
    "logs_trench = pd.DataFrame(rows).set_index(\"angle\")"
   ]
  },
  {
   "cell_type": "code",
   "execution_count": null,
   "id": "686e793c-b8ad-4fec-bd72-ca8a71db738b",
   "metadata": {},
   "outputs": [],
   "source": [
    "col = 7"
   ]
  },
  {
   "cell_type": "code",
   "execution_count": 110,
   "id": "3a81c10f-62c0-4777-b409-2a0c4608b6e3",
   "metadata": {},
   "outputs": [
    {
     "data": {
      "text/plain": [
       "0.9746079999999994"
      ]
     },
     "execution_count": 110,
     "metadata": {},
     "output_type": "execute_result"
    }
   ],
   "source": [
    "test_col[\"full\"].mean()"
   ]
  },
  {
   "cell_type": "code",
   "execution_count": 109,
   "id": "fe8319d7-c32b-4b60-882b-e5c43fedbffc",
   "metadata": {},
   "outputs": [
    {
     "data": {
      "text/plain": [
       "0.9261490000000001"
      ]
     },
     "execution_count": 109,
     "metadata": {},
     "output_type": "execute_result"
    }
   ],
   "source": [
    "test_col[\"trench\"].mean()"
   ]
  },
  {
   "cell_type": "code",
   "execution_count": 107,
   "id": "2259ae6e-dd07-49be-b52e-683c98b650d8",
   "metadata": {},
   "outputs": [
    {
     "data": {
      "text/plain": [
       "<AxesSubplot:ylabel='Proportion'>"
      ]
     },
     "execution_count": 107,
     "metadata": {},
     "output_type": "execute_result"
    },
    {
     "data": {
      "image/png": "[encoded data removed]",
      "text/plain": [
       "<Figure size 432x288 with 1 Axes>"
      ]
     },
     "metadata": {
      "image/png": {
       "height": 248,
       "width": 391
      },
      "needs_background": "light"
     },
     "output_type": "display_data"
    }
   ],
   "source": [
    "sns.histplot(test_col[\"trench\"] - test_col[\"full\"], stat=\"proportion\")"
   ]
  },
  {
   "cell_type": "code",
   "execution_count": 102,
   "id": "f03ebc2b-8d47-4ad2-a030-f130907b9ec7",
   "metadata": {},
   "outputs": [
    {
     "data": {
      "text/plain": [
       "0.04870900000000001"
      ]
     },
     "execution_count": 102,
     "metadata": {},
     "output_type": "execute_result"
    }
   ],
   "source": [
    "(test_col[\"trench\"] - test_col[\"full\"]).abs().mean()"
   ]
  },
  {
   "cell_type": "code",
   "execution_count": 116,
   "id": "e17bd518-58f5-4ef6-aef0-061e170ae41e",
   "metadata": {},
   "outputs": [
    {
     "data": {
      "text/plain": [
       "Float64Index([     0.0,   7.2483,  14.4966,   21.745,  28.9933,  36.2416,\n",
       "               43.4899,  50.7383,  57.9866,  65.2349,  72.4832,  79.7315,\n",
       "               86.9799,  94.2282, 101.4765, 108.7248, 115.9732, 123.2215,\n",
       "              130.4698, 137.7181, 144.9664, 152.2148, 159.4631, 166.7114,\n",
       "              173.9597, 181.2081, 188.4564, 195.7047,  202.953, 210.2013,\n",
       "              217.4497,  224.698, 231.9463, 239.1946,  246.443, 253.6913,\n",
       "              260.9396, 268.1879, 275.4362, 282.6846, 289.9329, 297.1812,\n",
       "              304.4295, 311.6779, 318.9262, 326.1745, 333.4228, 340.6711,\n",
       "              347.9195, 355.1678],\n",
       "             dtype='float64', name='angle')"
      ]
     },
     "execution_count": 116,
     "metadata": {},
     "output_type": "execute_result"
    }
   ],
   "source": [
    "logs_full.index[::3]"
   ]
  },
  {
   "cell_type": "code",
   "execution_count": 97,
   "id": "00378123-2e92-4b28-a28a-5549a137bc79",
   "metadata": {},
   "outputs": [
    {
     "name": "stdout",
     "output_type": "stream",
     "text": [
      "            full  trench\n",
      "angle                   \n",
      "2.4161    0.9816  0.9823\n",
      "4.8322    0.9762  0.9681\n",
      "9.6644    0.9785  0.9571\n",
      "12.0805   0.9675  0.9491\n",
      "16.9128   0.9749  0.9607\n",
      "19.3289   0.9792  0.9779\n",
      "24.1611   0.9674  0.8791\n",
      "26.5772   0.9742  0.9002\n",
      "31.4094   0.9779  0.8974\n",
      "33.8255   0.9788  0.8847\n",
      "38.6577   0.9767  0.8618\n",
      "41.0738   0.9786  0.9122\n",
      "45.9060   0.9684  0.8822\n",
      "48.3221   0.9726  0.7793\n",
      "53.1544   0.9789  0.8787\n",
      "55.5705   0.9782  0.9544\n",
      "60.4027   0.9672  0.8379\n",
      "62.8188   0.9772  0.9356\n",
      "67.6510   0.9712  0.9514\n",
      "70.0671   0.9762  0.9672\n",
      "74.8993   0.9783  0.9558\n",
      "77.3154   0.9740  0.9206\n",
      "82.1477   0.9690  0.9616\n",
      "84.5638   0.9707  0.9677\n",
      "89.3960   0.9819  0.9772\n",
      "91.8121   0.9819  0.9772\n",
      "96.6443   0.9793  0.9584\n",
      "99.0604   0.9794  0.9671\n",
      "103.8926  0.9700  0.9598\n",
      "106.3087  0.9764  0.9546\n",
      "111.1409  0.9795  0.7617\n",
      "113.5570  0.9745  0.9718\n",
      "118.3893  0.9739  0.9654\n",
      "120.8054  0.9791  0.9663\n",
      "125.6376  0.9743  0.7791\n",
      "128.0537  0.9639  0.8429\n",
      "132.8859  0.9790  0.9673\n",
      "135.3020  0.9783  0.9729\n",
      "140.1342  0.9775  0.9416\n",
      "142.5503  0.9722  0.9111\n",
      "147.3826  0.9715  0.8852\n",
      "149.7987  0.9754  0.9268\n",
      "154.6309  0.9786  0.7965\n",
      "157.0470  0.9558  0.9646\n",
      "161.8792  0.9762  0.8505\n",
      "164.2953  0.9730  0.9366\n",
      "169.1275  0.9755  0.9725\n",
      "171.5436  0.9765  0.9654\n",
      "176.3758  0.9757  0.9729\n",
      "178.7919  0.9797  0.9756\n",
      "183.6242  0.9785  0.9779\n",
      "186.0403  0.9805  0.9708\n",
      "190.8725  0.9623  0.9395\n",
      "193.2886  0.9672  0.9315\n",
      "198.1208  0.9761  0.9179\n",
      "200.5369  0.9769  0.9626\n",
      "205.3691  0.9686  0.9526\n",
      "207.7852  0.9770  0.9292\n",
      "212.6174  0.9770  0.8773\n",
      "215.0336  0.9758  0.8301\n",
      "219.8658  0.9720  0.9469\n",
      "222.2819  0.9743  0.9665\n",
      "227.1141  0.9740  0.9765\n",
      "229.5302  0.9724  0.9725\n",
      "234.3624  0.9682  0.7029\n",
      "236.7785  0.9626  0.6152\n",
      "241.6107  0.9766  0.9563\n",
      "244.0268  0.9798  0.9777\n",
      "248.8591  0.9746  0.9534\n",
      "251.2752  0.9750  0.9119\n",
      "256.1074  0.9765  0.9467\n",
      "258.5235  0.9774  0.9614\n",
      "263.3557  0.9723  0.9643\n",
      "265.7718  0.9752  0.9711\n",
      "270.6040  0.9791  0.9787\n",
      "273.0201  0.9791  0.9782\n",
      "277.8523  0.9750  0.9721\n",
      "280.2685  0.9677  0.9662\n",
      "285.1007  0.9735  0.9521\n",
      "287.5168  0.9780  0.9633\n",
      "292.3490  0.9759  0.9122\n",
      "294.7651  0.9703  0.7901\n",
      "299.5973  0.9759  0.8259\n",
      "302.0134  0.9786  0.9582\n",
      "306.8456  0.9610  0.9404\n",
      "309.2617  0.9779  0.9361\n",
      "314.0940  0.9749  0.9324\n",
      "316.5101  0.9750  0.9147\n",
      "321.3423  0.9756  0.9750\n",
      "323.7584  0.9670  0.9129\n",
      "328.5906  0.9650  0.7244\n",
      "331.0067  0.9682  0.9073\n",
      "335.8389  0.9756  0.9199\n",
      "338.2550  0.9733  0.9724\n",
      "343.0872  0.9764  0.9591\n",
      "345.5034  0.9769  0.9657\n",
      "350.3356  0.9771  0.9649\n",
      "352.7517  0.9769  0.9724\n",
      "357.5839  0.9823  0.9818\n",
      "360.0000  0.9814  0.9818\n"
     ]
    }
   ],
   "source": [
    "test_col = pd.DataFrame({\"full\": logs_full[col], \"trench\": logs_trench[col]}).drop(logs_full.index[::3])\n",
    "with pd.option_context(\"display.max_rows\", 100):\n",
    "    print(test_col)"
   ]
  },
  {
   "cell_type": "code",
   "execution_count": 59,
   "id": "24758c52-827e-4022-a938-dff10036e249",
   "metadata": {},
   "outputs": [
    {
     "data": {
      "text/plain": [
       "<AxesSubplot:xlabel='angle'>"
      ]
     },
     "execution_count": 59,
     "metadata": {},
     "output_type": "execute_result"
    },
    {
     "data": {
      "image/png": "[encoded data removed]",
      "text/plain": [
       "<Figure size 432x288 with 1 Axes>"
      ]
     },
     "metadata": {
      "image/png": {
       "height": 264,
       "width": 378
      },
      "needs_background": "light"
     },
     "output_type": "display_data"
    }
   ],
   "source": [
    "logs_full[col].plot()\n",
    "logs_trench[col].plot()"
   ]
  },
  {
   "cell_type": "code",
   "execution_count": 73,
   "id": "1ee144fc-68b3-4b96-9d0d-2f3524232044",
   "metadata": {},
   "outputs": [
    {
     "data": {
      "text/plain": [
       "<matplotlib.collections.PathCollection at 0x7efaa70dff70>"
      ]
     },
     "execution_count": 73,
     "metadata": {},
     "output_type": "execute_result"
    },
    {
     "data": {
      "image/png": "[encoded data removed]",
      "text/plain": [
       "<Figure size 432x288 with 1 Axes>"
      ]
     },
     "metadata": {
      "image/png": {
       "height": 250,
       "width": 378
      },
      "needs_background": "light"
     },
     "output_type": "display_data"
    }
   ],
   "source": [
    "plt.scatter(logs_full[col], logs_trench[col], c=logs_full.index, cmap=\"twilight\")"
   ]
  }
 ],
 "metadata": {
  "kernelspec": {
   "display_name": "Python 3 (ipykernel)",
   "language": "python",
   "name": "python3"
  },
  "language_info": {
   "codemirror_mode": {
    "name": "ipython",
    "version": 3
   },
   "file_extension": ".py",
   "mimetype": "text/x-python",
   "name": "python",
   "nbconvert_exporter": "python",
   "pygments_lexer": "ipython3",
   "version": "3.9.5"
  }
 },
 "nbformat": 4,
 "nbformat_minor": 5
}
