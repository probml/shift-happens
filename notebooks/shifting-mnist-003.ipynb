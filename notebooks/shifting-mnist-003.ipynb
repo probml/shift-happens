{
 "cells": [
  {
   "cell_type": "markdown",
   "id": "24093e5f-66d2-4753-b72d-95ffd0e395d7",
   "metadata": {},
   "source": [
    "# Shifting MNIST dataset"
   ]
  },
  {
   "cell_type": "code",
   "execution_count": 2,
   "id": "ee817d70-ab12-4533-85a2-748b89a40966",
   "metadata": {},
   "outputs": [],
   "source": [
    "%load_ext autoreload\n",
    "%autoreload 2"
   ]
  },
  {
   "cell_type": "code",
   "execution_count": 3,
   "id": "fd8c4b29-12a2-4447-b9db-04f92cb7ca51",
   "metadata": {},
   "outputs": [],
   "source": [
    "import os\n",
    "import jax\n",
    "import optax\n",
    "import dojax\n",
    "import jax.numpy as jnp\n",
    "import flax.linen as nn\n",
    "import numpy as np\n",
    "import torchvision\n",
    "import matplotlib.pyplot as plt\n",
    "from time import time\n",
    "from augly import image\n",
    "from multiprocessing import Pool\n",
    "\n",
    "from sklearn.decomposition import PCA"
   ]
  },
  {
   "cell_type": "code",
   "execution_count": 4,
   "id": "f7e6ec09-dbd0-4932-a5e6-d46bb1d1971b",
   "metadata": {},
   "outputs": [
    {
     "name": "stdout",
     "output_type": "stream",
     "text": [
      "Number of cores: 96\n"
     ]
    }
   ],
   "source": [
    "cpu_count = os.cpu_count()\n",
    "print(f\"Number of cores: {cpu_count}\")"
   ]
  },
  {
   "cell_type": "code",
   "execution_count": 5,
   "id": "37d72853-91ee-45a2-8d7f-951d8a6d5ac2",
   "metadata": {},
   "outputs": [],
   "source": [
    "mnist_train = torchvision.datasets.MNIST(root=\".\", train=True, download=True)\n",
    "mnist_test = torchvision.datasets.MNIST(root=\".\", train=False, download=True)"
   ]
  },
  {
   "cell_type": "code",
   "execution_count": 6,
   "id": "5f924bff-424d-4ff4-a205-f70b15e4fffc",
   "metadata": {},
   "outputs": [],
   "source": [
    "%config InlineBackend.figure_format = \"retina\"\n",
    "plt.rcParams[\"axes.spines.right\"] = False\n",
    "plt.rcParams[\"axes.spines.top\"] = False"
   ]
  },
  {
   "cell_type": "code",
   "execution_count": 7,
   "id": "31ec62af-476a-4030-92d6-bdff28cb487b",
   "metadata": {},
   "outputs": [
    {
     "data": {
      "image/png": "[encoded data removed]",
      "text/plain": [
       "<Figure size 288x432 with 6 Axes>"
      ]
     },
     "metadata": {
      "image/png": {
       "height": 424,
       "width": 279
      },
      "needs_background": "light"
     },
     "output_type": "display_data"
    }
   ],
   "source": [
    "radii = [0.1, 0.5, 1.0, 2.0, 3.0, 4.0]\n",
    "X_train = np.array(mnist_train.data)\n",
    "y_train = np.array(mnist_train.targets)\n",
    "\n",
    "fig, ax = plt.subplots(3, 2, figsize=(4, 6))\n",
    "for axi, radius in zip(ax.flat, radii):\n",
    "    x_shift = image.aug_np_wrapper(X_train[0], image.blur, radius=radius)\n",
    "    axi.imshow(x_shift)\n",
    "    axi.axis(\"off\")\n",
    "plt.tight_layout()"
   ]
  },
  {
   "cell_type": "code",
   "execution_count": 8,
   "id": "5d2b1334-ee12-46b8-a3d6-8b2af47ed772",
   "metadata": {},
   "outputs": [],
   "source": [
    "class BlurRad:\n",
    "    def __init__(self, rad):\n",
    "        self.rad = rad\n",
    "        \n",
    "    def __call__(self, img):\n",
    "        return self.blur_multiple(img)\n",
    "\n",
    "    def blur(self, X):\n",
    "        \"\"\"\n",
    "        Blur an image using the augly library\n",
    "\n",
    "        Paramters\n",
    "        ---------\n",
    "        X: np.array\n",
    "            A single NxM-dimensional array\n",
    "        radius: float\n",
    "            The amout of blurriness\n",
    "        \"\"\"\n",
    "        return image.aug_np_wrapper(X, image.blur, radius=self.rad)\n",
    "\n",
    "    def blur_multiple(self, X_batch):\n",
    "        images_out = []\n",
    "        for X in X_batch:\n",
    "            img_blur = self.blur(X)\n",
    "            images_out.append(img_blur)\n",
    "        images_out = np.stack(images_out, axis=0)\n",
    "        return images_out"
   ]
  },
  {
   "cell_type": "markdown",
   "id": "86e6513d-007c-4d92-aaf1-79b357f66803",
   "metadata": {},
   "source": [
    "## Estimating weights"
   ]
  },
  {
   "cell_type": "code",
   "execution_count": 9,
   "id": "9ba5e775-4eef-4e6c-872b-1f8b96d6459a",
   "metadata": {},
   "outputs": [],
   "source": [
    "def make_loss_func(model, X, y):\n",
    "    def loss_fn(params):\n",
    "        pred = model.apply(params, X)\n",
    "        loss = optax.softmax_cross_entropy(pred, y).mean()\n",
    "        return loss\n",
    "    return loss_fn # Assuming top-level funciton is jitted\n",
    "    # return jax.jit(loss_fn) # assuming top-level function is not jitted\n",
    "\n",
    "\n",
    "class MLPWide(nn.Module):\n",
    "    num_outputs: int\n",
    "    @nn.compact\n",
    "    def __call__(self, x):\n",
    "        # x = x.reshape(-1, 1)\n",
    "        x = nn.relu(nn.Dense(800)(x))\n",
    "        x = nn.relu(nn.Dense(500, name=\"last_layer\")(x))\n",
    "        x = nn.Dense(self.num_outputs)(x)\n",
    "        x = nn.log_softmax(x)\n",
    "        return x\n",
    "\n",
    "    \n",
    "def print_progress(epoch, loss, step_mod):\n",
    "    if epoch % step_mod == 0:\n",
    "        print(f\"Loss step ({epoch}: {loss:0.4e})\")\n",
    "\n",
    "\n",
    "@jax.jit\n",
    "def train_step(params, opt_state, X_batch, y_batch):\n",
    "    loss_fn = make_loss_func(model, X_batch, y_batch)\n",
    "    loss_grad_fn = jax.value_and_grad(loss_fn)\n",
    "    \n",
    "    loss_val, grads = loss_grad_fn(params)\n",
    "    updates, opt_state = tx.update(grads, opt_state)\n",
    "    params = optax.apply_updates(params, updates)\n",
    "    \n",
    "    return loss_val, params\n",
    "    \n",
    "\n",
    "def get_batch_train_ixs(key, num_samples, batch_size):\n",
    "    \"\"\"\n",
    "    Obtain the training indices to be used in an epoch of\n",
    "    mini-batch optimisation.\n",
    "    \"\"\"\n",
    "    steps_per_epoch = num_samples // batch_size\n",
    "    \n",
    "    batch_ixs = jax.random.permutation(key, num_samples)\n",
    "    batch_ixs = batch_ixs[:steps_per_epoch * batch_size]\n",
    "    batch_ixs = batch_ixs.reshape(steps_per_epoch, batch_size)\n",
    "    \n",
    "    return batch_ixs\n",
    "\n",
    "\n",
    "def train_epoch(key, params, opt_step, X, y, batch_size, epoch):\n",
    "    num_samples = len(X)\n",
    "    batch_ixs = get_batch_train_ixs(key, num_samples, batch_size)\n",
    "    \n",
    "    for batch_ix in batch_ixs:\n",
    "        X_batch = X[batch_ix, ...]\n",
    "        y_batch = y[batch_ix, ...]\n",
    "        loss, params = train_step(params, opt_step, X_batch, y_batch)\n",
    "    \n",
    "    return params, opt_step\n",
    "\n",
    "\n",
    "def proc_dataset(radius, img_dataset, n_processes=90):\n",
    "    \"\"\"\n",
    "    Blur all images of a dataset stored in a numpy array.\n",
    "    \n",
    "    Parameters\n",
    "    ----------\n",
    "    radius: float\n",
    "        Intensity of bluriness\n",
    "    img_dataset: array(N, L, K)\n",
    "        N images of size LxK\n",
    "    n_processes: int\n",
    "        Number of processes to blur over\n",
    "    \"\"\"\n",
    "    pool = Pool(processes=n_processes)\n",
    "    \n",
    "    dataset_proc = np.array_split(img_dataset, n_processes)\n",
    "    dataset_proc = pool.map(BlurRad(radius), dataset_proc)\n",
    "    dataset_proc = np.concatenate(dataset_proc, axis=0)\n",
    "    \n",
    "    pool.close()\n",
    "    \n",
    "    return dataset_proc"
   ]
  },
  {
   "cell_type": "code",
   "execution_count": 10,
   "id": "41a30a7d-87b9-4cdf-9697-1b937579ddb9",
   "metadata": {},
   "outputs": [
    {
     "name": "stderr",
     "output_type": "stream",
     "text": [
      "WARNING:absl:No GPU/TPU found, falling back to CPU. (Set TF_CPP_MIN_LOG_LEVEL=0 and rerun for more info.)\n"
     ]
    }
   ],
   "source": [
    "key = jax.random.PRNGKey(314)\n",
    "\n",
    "alpha = 0.001\n",
    "n_classes = 10\n",
    "n_subset = 5000\n",
    "batch_size = 2_000\n",
    "n_epochs = 150\n",
    "tx = optax.adam(learning_rate=alpha)\n",
    "\n",
    "model = MLPWide(n_classes)\n",
    "# X_train_ravel = X_train_proc.reshape(-1, 28 ** 2)\n",
    "# y_train_ohe = jax.nn.one_hot(y_train, n_classes)\n",
    "\n",
    "\n",
    "def train_model_config(key, radius, num_epochs):\n",
    "    X_train_proc = proc_dataset(radius, X_train, 90)\n",
    "    X_train_ravel = X_train_proc.reshape(-1, 28 ** 2)\n",
    "    y_train_ohe = jax.nn.one_hot(y_train, n_classes)\n",
    "\n",
    "    batch = jnp.ones((1, 28 ** 2))\n",
    "    params = model.init(key, batch)\n",
    "    opt_state = tx.init(params)\n",
    "\n",
    "    for e in range(num_epochs):\n",
    "        print(f\"@epoch {e+1:03}\", end=\"\\r\")\n",
    "        _, key = jax.random.split(key)\n",
    "        params, opt_state = train_epoch(key, params, opt_state, X_train_ravel, y_train_ohe, batch_size, e)\n",
    "\n",
    "    final_train_acc = (y_train == model.apply(params, X_train_ravel).argmax(axis=1)).mean().item()\n",
    "    print(f\"@{rad=:0.4f}, {final_train_acc=:0.4f}\")\n",
    "    \n",
    "    return params, final_train_acc"
   ]
  },
  {
   "cell_type": "code",
   "execution_count": null,
   "id": "ba51968e-ddda-4eaa-a4e4-bebe06b6e705",
   "metadata": {},
   "outputs": [],
   "source": [
    "hist_params = []\n",
    "hist_accuracy = []\n",
    "radii = jnp.linspace(0.001, 3.00, 100)\n",
    "\n",
    "time_start = time()\n",
    "for rad in radii:\n",
    "    params, train_acc = train_model_config(key, rad, n_epochs)\n",
    "    \n",
    "    hist_accuracy.append(train_acc)\n",
    "    hist_params.append(params)\n",
    "\n",
    "hist_accuracy = jnp.array(hist_accuracy)\n",
    "time_end = time()\n",
    "time_total = time_end - time_start\n",
    "print(f\"Total running time: {time_total:0.2f}s\")"
   ]
  },
  {
   "cell_type": "code",
   "execution_count": 11,
   "id": "cf231e6a-1efe-46f2-a2e7-59cdee8a7ab9",
   "metadata": {},
   "outputs": [],
   "source": [
    "filename = \"mnist_shift_params.npy\"\n",
    "\n",
    "if os.path.exists(filename):\n",
    "    hist_params_flat = jnp.load(filename)\n",
    "else:\n",
    "    hist_params_flat = dojax.flat_and_concat_params(hist_params)\n",
    "    jnp.save(filename, hist_params_flat)"
   ]
  },
  {
   "cell_type": "code",
   "execution_count": 12,
   "id": "857e59e7-dbc2-4477-b787-e984c4358235",
   "metadata": {},
   "outputs": [
    {
     "data": {
      "text/plain": [
       "(100, 1033510)"
      ]
     },
     "execution_count": 12,
     "metadata": {},
     "output_type": "execute_result"
    }
   ],
   "source": [
    "hist_params_flat.shape"
   ]
  },
  {
   "cell_type": "code",
   "execution_count": 13,
   "id": "cb79de03-4168-48a4-815a-326b193315c9",
   "metadata": {},
   "outputs": [],
   "source": [
    "pca = PCA(n_components=2)\n",
    "params_proj = pca.fit_transform(hist_params_flat)"
   ]
  },
  {
   "cell_type": "code",
   "execution_count": 14,
   "id": "209652cc-4cf2-404b-937a-7c2c9d4a208e",
   "metadata": {},
   "outputs": [
    {
     "data": {
      "text/plain": [
       "(100, 2)"
      ]
     },
     "execution_count": 14,
     "metadata": {},
     "output_type": "execute_result"
    }
   ],
   "source": [
    "params_proj.shape"
   ]
  },
  {
   "cell_type": "code",
   "execution_count": 15,
   "id": "0ed3927a-7086-4b54-aff6-f87a38848ba5",
   "metadata": {},
   "outputs": [],
   "source": [
    "radii = jnp.linspace(0.001, 3.00, 100)"
   ]
  },
  {
   "cell_type": "code",
   "execution_count": null,
   "id": "8ef414f1-9405-4f43-9301-e019c59828de",
   "metadata": {},
   "outputs": [],
   "source": [
    "fig, ax = plt.subplots(1, 2, figsize=(12, 4))\n",
    "\n",
    "ax[0].set_title(\"Projected weight dynamics: MNIST\")\n",
    "ax[0].scatter(*params_proj.T, c=radii)\n",
    "# ax[0].cb(label=\"radius\")\n",
    "ax[0].tick_params(axis=\"both\", labelleft=False, labelbottom=False)\n",
    "ax[0].axis(\"equal\")\n",
    "\n",
    "ax[1].set_title(\"Accuracy\")\n",
    "ax[1].scatter(radii, hist_accuracy, c=radii)\n",
    "ax[1].set_xlabel(\"Radius\")\n",
    "ax[1].set_ylabel(\"Accuracy\")"
   ]
  },
  {
   "cell_type": "code",
   "execution_count": 17,
   "id": "97c41d0e-3755-4d1b-b59a-0ee253b1f250",
   "metadata": {},
   "outputs": [],
   "source": [
    "pca = PCA(n_components=3)\n",
    "params_proj = pca.fit_transform(hist_params_flat)"
   ]
  },
  {
   "cell_type": "code",
   "execution_count": 18,
   "id": "70255f99-d38a-4ee7-bcad-4795716c6588",
   "metadata": {},
   "outputs": [
    {
     "data": {
      "text/plain": [
       "<mpl_toolkits.mplot3d.art3d.Path3DCollection at 0x7fee750c0940>"
      ]
     },
     "execution_count": 18,
     "metadata": {},
     "output_type": "execute_result"
    },
    {
     "data": {
      "image/png": "[encoded data removed]",
      "text/plain": [
       "<Figure size 432x288 with 1 Axes>"
      ]
     },
     "metadata": {
      "image/png": {
       "height": 231,
       "width": 248
      },
      "needs_background": "light"
     },
     "output_type": "display_data"
    }
   ],
   "source": [
    "fig = plt.figure()\n",
    "ax = plt.axes(projection=\"3d\")\n",
    "ax.view_init(20, 35)\n",
    "ax.scatter(*params_proj.T, c=radii)"
   ]
  },
  {
   "cell_type": "markdown",
   "id": "e8f0e0b2-50c4-4d9d-8ead-99bb8b09608a",
   "metadata": {},
   "source": [
    "## Modelling weight dynamics"
   ]
  },
  {
   "cell_type": "code",
   "execution_count": 109,
   "id": "3425a03f-3e32-4b97-8a86-bb49c462addd",
   "metadata": {},
   "outputs": [],
   "source": [
    "class MLPWeights(nn.Module):\n",
    "    num_outputs: int\n",
    "    @nn.compact\n",
    "    def __call__(self, x):\n",
    "        # x = x.reshape(-1, 1)\n",
    "        x = nn.relu(nn.Dense(200)(x))\n",
    "        x = nn.Dense(self.num_outputs)(x)\n",
    "        return x\n"
   ]
  },
  {
   "cell_type": "code",
   "execution_count": 20,
   "id": "c986e00e-6d74-4586-83d6-be09284a7868",
   "metadata": {},
   "outputs": [],
   "source": [
    "pca = PCA(n_components=60)\n",
    "params_proj = pca.fit_transform(hist_params_flat)"
   ]
  },
  {
   "cell_type": "code",
   "execution_count": 21,
   "id": "debc9533-4566-4ce8-b179-f79abc1e0dba",
   "metadata": {},
   "outputs": [
    {
     "data": {
      "text/plain": [
       "(100, 60)"
      ]
     },
     "execution_count": 21,
     "metadata": {},
     "output_type": "execute_result"
    }
   ],
   "source": [
    "params_proj.shape"
   ]
  },
  {
   "cell_type": "markdown",
   "id": "0a670f89-0bef-4bb4-834a-16b2ce233f90",
   "metadata": {},
   "source": [
    "### Steps to follow\n",
    "1. Modify `proc_dataset` so that it takes as input a list of radii and images. Both elements should have the same cardinality over the leading dimension. Its output is a list of images.\n",
    "2. Modify `make_loss_fn` so that it considers an output in R^d (d-dimensional output with real-valued entries)\n",
    "3. Modify `get_batch_train_ixs` so that it takes `num_samples` and `num_configs`, where `num_configs` is the total number of configuration. To do this, create a `num_samples x num_configs` count array. Then, given an index `i`, we obtain its config as `i % num_configs`; we obtain its position in the database as `i // num_configs`. Consider the following example:"
   ]
  },
  {
   "cell_type": "code",
   "execution_count": 22,
   "id": "772098ef-39bd-4798-8121-cb9264299161",
   "metadata": {},
   "outputs": [],
   "source": [
    "num_samples = 10\n",
    "num_configs = 3\n",
    "\n",
    "samples_ix = jnp.arange(num_samples * num_configs)"
   ]
  },
  {
   "cell_type": "code",
   "execution_count": 23,
   "id": "cf617666-8a92-430e-b87e-6c6905e6901f",
   "metadata": {},
   "outputs": [
    {
     "data": {
      "text/plain": [
       "DeviceArray([[0, 1, 2],\n",
       "             [0, 1, 2],\n",
       "             [0, 1, 2],\n",
       "             [0, 1, 2],\n",
       "             [0, 1, 2],\n",
       "             [0, 1, 2],\n",
       "             [0, 1, 2],\n",
       "             [0, 1, 2],\n",
       "             [0, 1, 2],\n",
       "             [0, 1, 2]], dtype=int32)"
      ]
     },
     "execution_count": 23,
     "metadata": {},
     "output_type": "execute_result"
    }
   ],
   "source": [
    "# Choose configuration\n",
    "samples_ix.reshape(num_samples, num_configs) % num_configs"
   ]
  },
  {
   "cell_type": "code",
   "execution_count": 24,
   "id": "1bfd106a-8497-4bb5-a89b-0d484e39e08c",
   "metadata": {},
   "outputs": [
    {
     "data": {
      "text/plain": [
       "DeviceArray([[0, 0, 0],\n",
       "             [1, 1, 1],\n",
       "             [2, 2, 2],\n",
       "             [3, 3, 3],\n",
       "             [4, 4, 4],\n",
       "             [5, 5, 5],\n",
       "             [6, 6, 6],\n",
       "             [7, 7, 7],\n",
       "             [8, 8, 8],\n",
       "             [9, 9, 9]], dtype=int32)"
      ]
     },
     "execution_count": 24,
     "metadata": {},
     "output_type": "execute_result"
    }
   ],
   "source": [
    "# Choose index\n",
    "samples_ix.reshape(num_samples, num_configs) // num_configs"
   ]
  },
  {
   "cell_type": "code",
   "execution_count": 25,
   "id": "dd918783-6c4d-4ea4-aeb9-afcc2b13d2a7",
   "metadata": {},
   "outputs": [
    {
     "data": {
      "text/plain": [
       "DeviceArray(4, dtype=int32)"
      ]
     },
     "execution_count": 25,
     "metadata": {},
     "output_type": "execute_result"
    }
   ],
   "source": [
    "samples_ix[14] // num_configs"
   ]
  },
  {
   "cell_type": "code",
   "execution_count": 26,
   "id": "cc0394e9-4ea8-4da1-bf96-80f5de4f5183",
   "metadata": {},
   "outputs": [
    {
     "data": {
      "text/plain": [
       "DeviceArray(2, dtype=int32)"
      ]
     },
     "execution_count": 26,
     "metadata": {},
     "output_type": "execute_result"
    }
   ],
   "source": [
    "samples_ix[14] % num_configs"
   ]
  },
  {
   "cell_type": "markdown",
   "id": "a3865160-fcc2-470b-ad3b-850e8c197c16",
   "metadata": {},
   "source": [
    "4. Modify `train_step` so that it considers the new `make_loss_fn` defined in step `2.`\n",
    "\n",
    "5. Modify `train_epoch` so that it samples from the indices defined in `3.`. Then, it should return a list of indices to train and radii to try. We modify the input X with the list of radii and obtain our target variable (the weights to predict) given by the list of radii. We then call the modified version of `train_step` (`4.`) with the batch as big as possible (so as to minimise the overhead of computing the transformations of `X`)"
   ]
  },
  {
   "cell_type": "markdown",
   "id": "2168d466-5202-40be-878d-f61fe5d9e241",
   "metadata": {},
   "source": [
    "### Implementation"
   ]
  },
  {
   "cell_type": "code",
   "execution_count": 27,
   "id": "a8ca3b76-31c6-45ad-8c53-24e99827917e",
   "metadata": {},
   "outputs": [
    {
     "name": "stderr",
     "output_type": "stream",
     "text": [
      "https://symbolize.stripped_domain/r/?trace=7ff05034bea7,7ff0501a63bf,563a0a4c547f&map= \n",
      "*** SIGTERM received by PID 175193 (TID 175193) on cpu 64 from PID 173448; stack trace: ***\n",
      "https://symbolize.stripped_domain/r/?trace=563a0a2bd7cb,7ff0501a63bf&map= \n",
      "*** SIGTERM received by PID 175194 (TID 175194) on cpu 95 from PID 173448; stack trace: ***\n",
      "PC: @     0x7ff05034bea7  (unknown)  operator delete[]()\n",
      "    @     0x7ff03fa527fa        992  (unknown)\n",
      "    @     0x7ff0501a63c0  388168272  (unknown)\n",
      "PC: @     0x563a0a2bd7cb  (unknown)  _PyFunction_Vectorcall\n",
      "    @     0x7ff03fa527fa        992  (unknown)\n",
      "    @     0x7ff0501a63c0  (unknown)  (unknown)\n",
      "    @ ... and at least 1 more frames\n",
      "https://symbolize.stripped_domain/r/?trace=563a0a2bd7cb,7ff03fa527f9,7ff0501a63bf&map=7a511a57244151c993b16b37978e7ed7:7ff03107a000-7ff03fdbcd50 \n",
      "E0224 06:21:19.024504  175194 coredump_hook.cc:320] RAW: Remote crash gathering disabled for SIGTERM.\n",
      "    @     0x563a0a4c5480  (unknown)  (unknown)\n",
      "https://symbolize.stripped_domain/r/?trace=7ff05034bea7,7ff03fa527f9,7ff0501a63bf,563a0a4c547f&map=7a511a57244151c993b16b37978e7ed7:7ff03107a000-7ff03fdbcd50 \n",
      "E0224 06:21:19.025970  175193 coredump_hook.cc:320] RAW: Remote crash gathering disabled for SIGTERM.\n",
      "E0224 06:21:19.032423  175194 process_state.cc:770] RAW: Raising signal 15 with default behavior\n",
      "E0224 06:21:19.038089  175193 process_state.cc:770] RAW: Raising signal 15 with default behavior\n"
     ]
    },
    {
     "data": {
      "image/png": "[encoded data removed]",
      "text/plain": [
       "<Figure size 432x432 with 4 Axes>"
      ]
     },
     "metadata": {
      "image/png": {
       "height": 423,
       "width": 410
      },
      "needs_background": "light"
     },
     "output_type": "display_data"
    }
   ],
   "source": [
    "size_subset = 4\n",
    "n_processes = 4\n",
    "\n",
    "np.random.seed(314)\n",
    "radii = np.random.rand(size_subset) * 5\n",
    "\n",
    "X_train_subset = X_train[:size_subset, ...]\n",
    "X_train_subset.shape\n",
    "\n",
    "res = dojax.proc_dataset_multiple(radii, X_train_subset, n_processes)\n",
    "\n",
    "fig, ax = plt.subplots(2, 2, figsize=(6, 6))\n",
    "for radius, axi, img in zip(radii, ax.flat, res):\n",
    "    axi.imshow(img)\n",
    "    axi.set_title(f\"{radius=:0.2f}\")\n",
    "plt.tight_layout()"
   ]
  },
  {
   "cell_type": "markdown",
   "id": "6a3f8882-7ba9-4406-b9ad-4d11cb4c3c66",
   "metadata": {},
   "source": [
    "## Loss function for multiple outputs\n",
    "\n",
    "$$\n",
    "    \\mathcal{L} = \\frac{1}{2N}\\sum_{n=1}^N \\vert\\vert {\\bf y}_n - {\\bf W}^T\\phi({\\bf x}_n) \\vert\\vert^2\n",
    "$$"
   ]
  },
  {
   "cell_type": "code",
   "execution_count": 28,
   "id": "1a404b18-413c-4d02-be07-613a5e26cd81",
   "metadata": {},
   "outputs": [],
   "source": [
    "def make_loss_func_multiple(model, X, y):\n",
    "    \"\"\"\n",
    "    Loss function for regression problem with multiple outputs\n",
    "    \"\"\"\n",
    "    def loss_fn(params):\n",
    "        pred = model.apply(params, X)\n",
    "        loss = jnp.linalg.norm(y_test - y_hat, axis=-1) ** 2\n",
    "        return loss.mean()\n",
    "    return loss_fn"
   ]
  },
  {
   "cell_type": "code",
   "execution_count": 110,
   "id": "6fec79e2-2f19-44d8-948a-87c177f93c12",
   "metadata": {},
   "outputs": [],
   "source": [
    "weight_model = MLPWeights(10)"
   ]
  },
  {
   "cell_type": "code",
   "execution_count": 30,
   "id": "ead06f05-882d-4a22-b700-94856dd55907",
   "metadata": {},
   "outputs": [],
   "source": [
    "batch = jnp.ones((1, 28 ** 2))\n",
    "params = weight_model.init(key, batch)\n",
    "opt_state = tx.init(params)"
   ]
  },
  {
   "cell_type": "code",
   "execution_count": 31,
   "id": "fea05974-5bd5-45ed-81fb-d1a97f6cc9ce",
   "metadata": {},
   "outputs": [],
   "source": [
    "y_test = jax.random.normal(key, (4, 10)) * 10\n",
    "y_hat = weight_model.apply(params, res.reshape(4, -1))"
   ]
  },
  {
   "cell_type": "markdown",
   "id": "738c3043-0387-4b60-81ea-bc6a2b20afb0",
   "metadata": {},
   "source": [
    "### Getting training indices\n"
   ]
  },
  {
   "cell_type": "code",
   "execution_count": 73,
   "id": "9ee60979-77f4-430b-a984-87f2b8b8d5ce",
   "metadata": {},
   "outputs": [],
   "source": [
    "def get_batch_train_configs_ixs(num_samples, num_configs, batch_size):\n",
    "    \"\"\"\n",
    "    Obtain the training indices to be used in an epoch of\n",
    "    mini-batch optimisation\n",
    "    \n",
    "    We consider a tranining dataset over number of samples and\n",
    "    number of configurtios.\n",
    "    \"\"\"\n",
    "    num_elements = num_samples * num_configs\n",
    "    \n",
    "    steps_per_epoch = num_elements // batch_size\n",
    "    \n",
    "    # Maybe we can only use numpy here to avoid sending /\n",
    "    # calling elements from the TPU\n",
    "    # batch_ixs = jax.random.permutation(key, num_elements)\n",
    "    batch_ixs = np.random.permutation(num_elements)\n",
    "    batch_ixs = batch_ixs[:steps_per_epoch * batch_size]\n",
    "    batch_ixs = batch_ixs.reshape(steps_per_epoch, batch_size)\n",
    "    \n",
    "    batch_ixs_samples = batch_ixs // num_configs\n",
    "    batch_ixs_configs = batch_ixs % num_configs\n",
    "    \n",
    "    return batch_ixs_samples, batch_ixs_configs"
   ]
  },
  {
   "cell_type": "markdown",
   "id": "f4385f71-aa40-442c-bd21-0424c3f7eacf",
   "metadata": {},
   "source": [
    "### The new training step"
   ]
  },
  {
   "cell_type": "code",
   "execution_count": 116,
   "id": "a561b2b7-8d01-49e6-9da5-42a17a3dddd6",
   "metadata": {},
   "outputs": [],
   "source": [
    "n_configs, dim_params = params_proj.shape\n",
    "weight_model = MLPWeights(dim_params)"
   ]
  },
  {
   "cell_type": "code",
   "execution_count": 117,
   "id": "55e5aee1-29a9-4ad6-9afa-77ff2a58d204",
   "metadata": {},
   "outputs": [],
   "source": [
    "@jax.jit\n",
    "def train_step_weights(params, opt_state, X_batch, y_batch):\n",
    "    loss_fn = make_loss_func_multiple(weight_model, X_batch, y_batch)\n",
    "    loss_grad_fn = jax.value_and_grad(loss_fn)\n",
    "    \n",
    "    loss_val, grads = loss_grad_fn(params)\n",
    "    updates, opt_state = tx.update(grads, opt_state)\n",
    "    params = optax.apply_updates(params, updates)\n",
    "    \n",
    "    return loss_val, params"
   ]
  },
  {
   "cell_type": "markdown",
   "id": "2fe31891-4af9-4fc8-ae54-f06230c88c1f",
   "metadata": {},
   "source": [
    "### New training episode"
   ]
  },
  {
   "cell_type": "code",
   "execution_count": 145,
   "id": "aadaf9a1-3c02-4cc7-bf91-e5ae1349fe8a",
   "metadata": {},
   "outputs": [
    {
     "data": {
      "text/plain": [
       "(500, 28, 28)"
      ]
     },
     "execution_count": 145,
     "metadata": {},
     "output_type": "execute_result"
    }
   ],
   "source": [
    "size_subset = 500\n",
    "X_train_subset = X_train[:size_subset, ...]\n",
    "\n",
    "X_train_subset.shape"
   ]
  },
  {
   "cell_type": "code",
   "execution_count": 146,
   "id": "a09cf28a-1597-4f7f-b03b-61033d79f7ec",
   "metadata": {},
   "outputs": [
    {
     "name": "stdout",
     "output_type": "stream",
     "text": [
      "100\n"
     ]
    }
   ],
   "source": [
    "n_configs, dim_params = params_proj.shape\n",
    "print(n_configs)"
   ]
  },
  {
   "cell_type": "code",
   "execution_count": 147,
   "id": "5ff07bc3-0f73-4ee5-9154-de95e7100e40",
   "metadata": {},
   "outputs": [
    {
     "data": {
      "text/plain": [
       "'50,000'"
      ]
     },
     "execution_count": 147,
     "metadata": {},
     "output_type": "execute_result"
    }
   ],
   "source": [
    "format(500 * 100, \",\")"
   ]
  },
  {
   "cell_type": "code",
   "execution_count": 148,
   "id": "e15589a9-1475-49d2-a11e-5f1d2ca49175",
   "metadata": {},
   "outputs": [],
   "source": [
    "np.random.seed(314)\n",
    "batch_size = 100\n",
    "sample_ixs, config_ixs = get_batch_train_configs_ixs(size_subset, n_configs, batch_size)"
   ]
  },
  {
   "cell_type": "code",
   "execution_count": 149,
   "id": "c5dcea55-af26-4835-a0e9-1c31f28dce52",
   "metadata": {},
   "outputs": [],
   "source": [
    "sample_batch_ix = sample_ixs[0]\n",
    "config_batch_ix = config_ixs[0]"
   ]
  },
  {
   "cell_type": "code",
   "execution_count": 150,
   "id": "e31c55fb-b5b3-4d69-adc0-e49e00d2f543",
   "metadata": {},
   "outputs": [],
   "source": [
    "X_batch = X_train_subset[sample_batch_ix, ...]\n",
    "weights_batch = params_proj[config_batch_ix, ...]"
   ]
  },
  {
   "cell_type": "code",
   "execution_count": 151,
   "id": "65515fab-c112-49a2-a23c-72f4c2b1990e",
   "metadata": {},
   "outputs": [
    {
     "data": {
      "text/plain": [
       "(100, 60)"
      ]
     },
     "execution_count": 151,
     "metadata": {},
     "output_type": "execute_result"
    }
   ],
   "source": [
    "params_proj.shape"
   ]
  },
  {
   "cell_type": "code",
   "execution_count": 152,
   "id": "ebbe50f2-8f04-4a1b-90e0-f4d8bb1ac034",
   "metadata": {},
   "outputs": [],
   "source": [
    "n_processes = 20\n",
    "radii = jnp.linspace(0.001, 3.00, 100)\n",
    "\n",
    "weight_model = MLPWeights(dim_params)\n",
    "batch = jnp.ones((1, 28 ** 2))\n",
    "params = weight_model.init(key, batch)\n",
    "opt_state = tx.init(params)\n",
    "\n",
    "config_batch = radii[config_batch_ix]\n",
    "X_batch_transformed = dojax.proc_dataset_multiple(config_batch, X_batch, min(n_processes, batch_size))\n",
    "X_batch_transformed = X_batch_transformed.reshape(-1, 28 ** 2)\n",
    "\n",
    "_ = train_step_weights(params, opt_state, X_batch_transformed, weights_batch)"
   ]
  },
  {
   "cell_type": "code",
   "execution_count": 163,
   "id": "65faf3bc-a806-49ab-834c-13f6fde703bd",
   "metadata": {},
   "outputs": [],
   "source": [
    "def train_epoch_weights(key, params, opt_step, X, configs, target_weights, batch_size, epoch):\n",
    "    \"\"\"\n",
    "    Training epoch for the projected weights. Note that target weights are the\n",
    "    target variables\n",
    "    \"\"\"\n",
    "    num_samples = len(X)\n",
    "    num_configs = len(target_weights)\n",
    "    \n",
    "    sample_ixs, config_ixs = get_batch_train_configs_ixs(num_samples, num_configs,\n",
    "                                                         batch_size)\n",
    "    \n",
    "    n_processes_batch = min(n_processes, batch_size)\n",
    "    for (sample_batch_ix, config_batch_ix) in zip(sample_ixs, config_ixs):\n",
    "        X_batch = X[sample_batch_ix, ...]\n",
    "        config_batch = configs[config_batch_ix]\n",
    "        X_batch_transformed = dojax.proc_dataset_multiple(config_batch, X_batch, n_processes_batch).reshape(-1, 28 ** 2)\n",
    "        \n",
    "        weights_batch = target_weights[config_batch_ix, ...]\n",
    "        loss, params = train_step_weights(params, opt_step, X_batch_transformed, weights_batch)\n",
    "        \n",
    "    return params, opt_step\n"
   ]
  },
  {
   "cell_type": "code",
   "execution_count": null,
   "id": "e0126121-a0b2-4bf4-8df8-3c199c917953",
   "metadata": {},
   "outputs": [],
   "source": [
    "train_epoch_weights(key, params, opt_state, X_train_subset, radii, params_proj, 100, 0)"
   ]
  }
 ],
 "metadata": {
  "kernelspec": {
   "display_name": "Python 3 (ipykernel)",
   "language": "python",
   "name": "python3"
  },
  "language_info": {
   "codemirror_mode": {
    "name": "ipython",
    "version": 3
   },
   "file_extension": ".py",
   "mimetype": "text/x-python",
   "name": "python",
   "nbconvert_exporter": "python",
   "pygments_lexer": "ipython3",
   "version": "3.9.5"
  }
 },
 "nbformat": 4,
 "nbformat_minor": 5
}
