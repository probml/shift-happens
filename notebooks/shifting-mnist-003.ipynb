{
 "cells": [
  {
   "cell_type": "markdown",
   "id": "24093e5f-66d2-4753-b72d-95ffd0e395d7",
   "metadata": {},
   "source": [
    "# Shifting MNIST dataset"
   ]
  },
  {
   "cell_type": "code",
   "execution_count": 1,
   "id": "adeff1a2-1660-478c-9117-37dfa129b799",
   "metadata": {},
   "outputs": [],
   "source": [
    "import os\n",
    "import numpy as np\n",
    "import torchvision\n",
    "import matplotlib.pyplot as plt\n",
    "from augly import image\n",
    "from multiprocessing import Pool"
   ]
  },
  {
   "cell_type": "code",
   "execution_count": 2,
   "id": "f7e6ec09-dbd0-4932-a5e6-d46bb1d1971b",
   "metadata": {},
   "outputs": [
    {
     "name": "stdout",
     "output_type": "stream",
     "text": [
      "Number of cores: 96\n"
     ]
    }
   ],
   "source": [
    "cpu_count = os.cpu_count()\n",
    "print(f\"Number of cores: {cpu_count}\")"
   ]
  },
  {
   "cell_type": "code",
   "execution_count": 3,
   "id": "37d72853-91ee-45a2-8d7f-951d8a6d5ac2",
   "metadata": {},
   "outputs": [],
   "source": [
    "mnist_train = torchvision.datasets.MNIST(root=\".\", train=True, download=True)\n",
    "mnist_test = torchvision.datasets.MNIST(root=\".\", train=False, download=True)"
   ]
  },
  {
   "cell_type": "code",
   "execution_count": 4,
   "id": "5f924bff-424d-4ff4-a205-f70b15e4fffc",
   "metadata": {},
   "outputs": [],
   "source": [
    "%config InlineBackend.figure_format = \"retina\"\n",
    "plt.rcParams[\"axes.spines.right\"] = False"
   ]
  },
  {
   "cell_type": "code",
   "execution_count": 5,
   "id": "31ec62af-476a-4030-92d6-bdff28cb487b",
   "metadata": {},
   "outputs": [
    {
     "data": {
      "image/png": "[encoded data removed]",
      "text/plain": [
       "<Figure size 288x432 with 6 Axes>"
      ]
     },
     "metadata": {
      "image/png": {
       "height": 424,
       "width": 279
      },
      "needs_background": "light"
     },
     "output_type": "display_data"
    }
   ],
   "source": [
    "radii = [0.1, 0.5, 1.0, 2.0, 3.0, 4.0]\n",
    "X_train = np.array(mnist_train.data)\n",
    "y_train = np.array(mnist_train.targets)\n",
    "\n",
    "fig, ax = plt.subplots(3, 2, figsize=(4, 6))\n",
    "for axi, radius in zip(ax.flat, radii):\n",
    "    x_shift = image.aug_np_wrapper(X_train[0], image.blur, radius=radius)\n",
    "    axi.imshow(x_shift)\n",
    "    axi.axis(\"off\")\n",
    "plt.tight_layout()"
   ]
  },
  {
   "cell_type": "code",
   "execution_count": 6,
   "id": "5d2b1334-ee12-46b8-a3d6-8b2af47ed772",
   "metadata": {},
   "outputs": [],
   "source": [
    "class BlurRad:\n",
    "    def __init__(self, rad):\n",
    "        self.rad = rad\n",
    "        \n",
    "    def __call__(self, img):\n",
    "        return self.blur_multiple(img)\n",
    "\n",
    "    def blur(self, X):\n",
    "        \"\"\"\n",
    "        Blur an image using the augly library\n",
    "\n",
    "        Paramters\n",
    "        ---------\n",
    "        X: np.array\n",
    "            A single NxM-dimensional array\n",
    "        radius: float\n",
    "            The amout of blurriness\n",
    "        \"\"\"\n",
    "        return image.aug_np_wrapper(X, image.blur, radius=self.rad)\n",
    "\n",
    "    def blur_multiple(self, X_batch):\n",
    "        images_out = []\n",
    "        for X in X_batch:\n",
    "            img_blur = self.blur(X)\n",
    "            images_out.append(img_blur)\n",
    "        images_out = np.stack(images_out, axis=0)\n",
    "        return images_out"
   ]
  },
  {
   "cell_type": "code",
   "execution_count": 7,
   "id": "57f9c96e-87da-4031-a98f-e7442467144d",
   "metadata": {},
   "outputs": [],
   "source": [
    "n_processes = 90\n",
    "X_train_partition = np.array_split(X_train, n_processes)"
   ]
  },
  {
   "cell_type": "code",
   "execution_count": 8,
   "id": "135479f2-55ac-4b47-99bf-9ca3e7e344a5",
   "metadata": {},
   "outputs": [
    {
     "name": "stdout",
     "output_type": "stream",
     "text": [
      "(60000, 28, 28)\n",
      "CPU times: user 112 ms, sys: 675 ms, total: 787 ms\n",
      "Wall time: 845 ms\n"
     ]
    }
   ],
   "source": [
    "%%time\n",
    "pool = Pool(processes=n_processes)\n",
    "X_train_blur = pool.map(BlurRad(2.5), X_train_partition)\n",
    "X_train_blur = np.concatenate(X_train_blur, axis=0)\n",
    "print(X_train_blur.shape)\n",
    "pool.close()"
   ]
  },
  {
   "cell_type": "markdown",
   "id": "86e6513d-007c-4d92-aaf1-79b357f66803",
   "metadata": {},
   "source": [
    "## Estimating weights"
   ]
  },
  {
   "cell_type": "code",
   "execution_count": 9,
   "id": "f1c3f39e-04e6-47da-90df-8461565e8f62",
   "metadata": {},
   "outputs": [],
   "source": [
    "def estimate_weights(model, X, y, key, optimizer, n_epochs=200, seed=None,\n",
    "                     output_progress=False, print_final_loss=False):\n",
    "    loss = dojax.make_mse_func(model, X, y)\n",
    "    batch = jnp.ones((1, 2))\n",
    "    params = model.init(key, batch)\n",
    "    opt_state = optimizer.init(params)\n",
    "    loss_grad_fn = jax.value_and_grad(loss)\n",
    "    \n",
    "    for i in range(n_epochs):\n",
    "        loss_val, grads = loss_grad_fn(params)\n",
    "        updates, opt_state = tx.update(grads, opt_state)\n",
    "        params = optax.apply_updates(params, updates)\n",
    "        if i % 50 == 0 and output_progress:\n",
    "            print('Loss step {}: '.format(i), loss_val)\n",
    "    if print_final_loss:\n",
    "        print(f\"Final loss: {loss_val}\")\n",
    "        \n",
    "    output = {\n",
    "        \"params\": params,\n",
    "        \"final_loss\": loss_val,\n",
    "        \"train_accuracy\": (model.apply(params, X).round().ravel() == y).mean()\n",
    "    }\n",
    "    \n",
    "    return output"
   ]
  },
  {
   "cell_type": "code",
   "execution_count": 10,
   "id": "740caceb-e019-4ef0-8bca-2594154cac42",
   "metadata": {},
   "outputs": [],
   "source": [
    "import jax\n",
    "import optax\n",
    "import jax.numpy as jnp\n",
    "import flax.linen as nn"
   ]
  },
  {
   "cell_type": "code",
   "execution_count": 11,
   "id": "70a080c9-3b62-4723-9da1-d70842cd9738",
   "metadata": {},
   "outputs": [],
   "source": [
    "def make_loss_func(model, X, y):\n",
    "    def loss_fn(params):\n",
    "        pred = model.apply(params, X)\n",
    "        loss = optax.softmax_cross_entropy(pred, y).mean()\n",
    "        return loss\n",
    "    return loss_fn\n",
    "    # return jax.jit(loss_fn) # assuming top-levelled funciton is not jitted\n",
    "\n",
    "class MLPWide(nn.Module):\n",
    "    num_outputs: int\n",
    "    @nn.compact\n",
    "    def __call__(self, x):\n",
    "        # x = x.reshape(-1, 1)\n",
    "        x = nn.relu(nn.Dense(800)(x))\n",
    "        x = nn.relu(nn.Dense(500, name=\"last_layer\")(x))\n",
    "        x = nn.Dense(self.num_outputs)(x)\n",
    "        x = nn.log_softmax(x)\n",
    "        return x\n",
    "\n",
    "def print_progress(epoch, loss, step_mod):\n",
    "    if epoch % step_mod == 0:\n",
    "        print(f\"Loss step ({epoch}: {loss:0.4e})\")\n",
    "\n",
    "\n",
    "@jax.jit\n",
    "def train_step(params, opt_state, X_batch, y_batch):\n",
    "    loss_fn = make_loss_func(model, X_batch, y_batch)\n",
    "    loss_grad_fn = jax.value_and_grad(loss_fn)\n",
    "    \n",
    "    loss_val, grads = loss_grad_fn(params)\n",
    "    updates, opt_state = tx.update(grads, opt_state)\n",
    "    params = optax.apply_updates(params, updates)\n",
    "    \n",
    "    return loss_val, params\n",
    "    \n",
    "\n",
    "def get_batch_train_ixs(key, num_samples, batch_size):\n",
    "    \"\"\"\n",
    "    Obtain the training indices to be used in an epoch of\n",
    "    mini-batch optimisation.\n",
    "    \"\"\"\n",
    "    steps_per_epoch = num_samples // batch_size\n",
    "    \n",
    "    batch_ixs = jax.random.permutation(key, num_samples)\n",
    "    batch_ixs = batch_ixs[:steps_per_epoch * batch_size]\n",
    "    batch_ixs = batch_ixs.reshape(steps_per_epoch, batch_size)\n",
    "    \n",
    "    return batch_ixs\n",
    "\n",
    "\n",
    "def train_epoch(key, params, opt_step, X, y, batch_size, epoch):\n",
    "    num_samples = len(X)\n",
    "    batch_ixs = get_batch_train_ixs(key, num_samples, batch_size)\n",
    "    \n",
    "    for batch_ix in batch_ixs:\n",
    "        X_batch = X[batch_ix, ...]\n",
    "        y_batch = y[batch_ix, ...]\n",
    "        loss, params = train_step(params, opt_step, X_batch, y_batch)\n",
    "    \n",
    "    return params, opt_step"
   ]
  },
  {
   "cell_type": "code",
   "execution_count": 12,
   "id": "387fa043-7a61-4ac1-9880-a2428edd8c6f",
   "metadata": {},
   "outputs": [],
   "source": [
    "key = jax.random.PRNGKey(314)\n",
    "n_classes = 10\n",
    "n_subset = 5000\n",
    "\n",
    "model = MLPWide(n_classes)\n",
    "X_train_ravel = X_train.reshape(-1, 28 ** 2)\n",
    "y_train_ohe = jax.nn.one_hot(y_train, n_classes)\n",
    "\n",
    "alpha = 0.001\n",
    "tx = optax.adam(learning_rate=alpha)\n",
    "batch = jnp.ones((1, 28 ** 2))\n",
    "params = model.init(key, batch)\n",
    "opt_state = tx.init(params)"
   ]
  },
  {
   "cell_type": "code",
   "execution_count": 13,
   "id": "ed7266d3-add7-4001-9682-8165e6efa3d9",
   "metadata": {},
   "outputs": [
    {
     "name": "stdout",
     "output_type": "stream",
     "text": [
      "@epoch 099\r"
     ]
    }
   ],
   "source": [
    "batch_size = 2_000\n",
    "n_epochs = 100\n",
    "\n",
    "for e in range(n_epochs):\n",
    "    print(f\"@epoch {e:03}\", end=\"\\r\")\n",
    "    params, opt_state = train_epoch(key, params, opt_state, X_train_ravel, y_train_ohe, batch_size, e)"
   ]
  },
  {
   "cell_type": "code",
   "execution_count": 14,
   "id": "01421e08-b91c-42a0-be3a-e258627bf373",
   "metadata": {},
   "outputs": [
    {
     "data": {
      "text/plain": [
       "DeviceArray(0.99916667, dtype=float32)"
      ]
     },
     "execution_count": 14,
     "metadata": {},
     "output_type": "execute_result"
    }
   ],
   "source": [
    "(y_train == model.apply(params, X_train_ravel).argmax(axis=1)).mean()"
   ]
  }
 ],
 "metadata": {
  "kernelspec": {
   "display_name": "Python 3 (ipykernel)",
   "language": "python",
   "name": "python3"
  },
  "language_info": {
   "codemirror_mode": {
    "name": "ipython",
    "version": 3
   },
   "file_extension": ".py",
   "mimetype": "text/x-python",
   "name": "python",
   "nbconvert_exporter": "python",
   "pygments_lexer": "ipython3",
   "version": "3.9.5"
  }
 },
 "nbformat": 4,
 "nbformat_minor": 5
}
