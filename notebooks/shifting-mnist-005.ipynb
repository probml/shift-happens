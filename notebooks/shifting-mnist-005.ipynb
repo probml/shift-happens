{
 "cells": [
  {
   "cell_type": "markdown",
   "id": "24093e5f-66d2-4753-b72d-95ffd0e395d7",
   "metadata": {},
   "source": [
    "# Corrupted MNIST dataset"
   ]
  },
  {
   "cell_type": "code",
   "execution_count": 1,
   "id": "9bb0bb34-91eb-4a1a-a907-37bd4a948945",
   "metadata": {},
   "outputs": [],
   "source": [
    "import os\n",
    "import jax\n",
    "import optax\n",
    "import dojax\n",
    "import jax.numpy as jnp\n",
    "import flax.linen as nn\n",
    "import numpy as np\n",
    "import torchvision\n",
    "import matplotlib.pyplot as plt\n",
    "from time import time\n",
    "from augly import image\n",
    "from multiprocessing import Pool\n",
    "\n",
    "from sklearn.decomposition import PCA, KernelPCA\n",
    "from sklearn.manifold import TSNE"
   ]
  },
  {
   "cell_type": "code",
   "execution_count": 2,
   "id": "f7e6ec09-dbd0-4932-a5e6-d46bb1d1971b",
   "metadata": {},
   "outputs": [
    {
     "name": "stdout",
     "output_type": "stream",
     "text": [
      "Number of cores: 96\n"
     ]
    }
   ],
   "source": [
    "cpu_count = os.cpu_count()\n",
    "print(f\"Number of cores: {cpu_count}\")"
   ]
  },
  {
   "cell_type": "code",
   "execution_count": 3,
   "id": "37d72853-91ee-45a2-8d7f-951d8a6d5ac2",
   "metadata": {},
   "outputs": [],
   "source": [
    "mnist_train = torchvision.datasets.MNIST(root=\".\", train=True, download=True)\n",
    "mnist_test = torchvision.datasets.MNIST(root=\".\", train=False, download=True)"
   ]
  },
  {
   "cell_type": "code",
   "execution_count": 4,
   "id": "5f924bff-424d-4ff4-a205-f70b15e4fffc",
   "metadata": {},
   "outputs": [],
   "source": [
    "%config InlineBackend.figure_format = \"retina\"\n",
    "plt.rcParams[\"axes.spines.right\"] = False\n",
    "plt.rcParams[\"axes.spines.top\"] = False"
   ]
  },
  {
   "cell_type": "code",
   "execution_count": 93,
   "id": "3814bd84-4ab9-4915-b8b5-f180c1df93b3",
   "metadata": {
    "tags": []
   },
   "outputs": [],
   "source": [
    "class Corrupt:\n",
    "    def __init__(self, p):\n",
    "        \"\"\"\n",
    "        Class to corrupt an image. Each pixel is given a\n",
    "        random value with probability p\n",
    "        \"\"\"\n",
    "        self.p = p\n",
    "        \n",
    "    def __call__(self, imgs):\n",
    "        return self.transform_multiple(imgs)\n",
    "\n",
    "    def transform(self, img):\n",
    "        \"\"\"\n",
    "        Corrup an image with noise\n",
    "\n",
    "        Paramters\n",
    "        ---------\n",
    "        X: np.array\n",
    "            A single NxM-dimensional array\n",
    "        \"\"\"\n",
    "        img_size = img.shape\n",
    "        corrupt_map = np.random.binomial(1, self.p, size=img_size)\n",
    "        corrupt_vals = np.random.randint(0, 255, size=img_size)\n",
    "        new_image = img * (1 - corrupt_map) + corrupt_map * corrupt_vals\n",
    "        \n",
    "        return new_image\n",
    "\n",
    "    def transform_multiple(self, X_batch):\n",
    "        images_out = []\n",
    "        for X in X_batch:\n",
    "            img_transform = self.transform(X)\n",
    "            images_out.append(img_transform)\n",
    "        images_out = np.stack(images_out, axis=0)\n",
    "        return images_out"
   ]
  },
  {
   "cell_type": "code",
   "execution_count": 95,
   "id": "31ec62af-476a-4030-92d6-bdff28cb487b",
   "metadata": {},
   "outputs": [
    {
     "data": {
      "image/png": "[encoded data removed]",
      "text/plain": [
       "<Figure size 288x288 with 4 Axes>"
      ]
     },
     "metadata": {
      "image/png": {
       "height": 280,
       "width": 263
      },
      "needs_background": "light"
     },
     "output_type": "display_data"
    }
   ],
   "source": [
    "vals = [0.01, 0.1, 0.2, 0.5]\n",
    "\n",
    "X_train = np.array(mnist_train.data)\n",
    "y_train = np.array(mnist_train.targets)\n",
    "\n",
    "fig, ax = plt.subplots(2, 2, figsize=(4, 4))\n",
    "for axi, p in zip(ax.flat, vals):\n",
    "    x_shift = Corrupt(p)(X_train[[0]]).squeeze(axis=0)\n",
    "    axi.imshow(x_shift)\n",
    "    axi.axis(\"off\")\n",
    "    axi.set_title(f\"p={p}\")\n",
    "    \n",
    "plt.tight_layout()"
   ]
  },
  {
   "cell_type": "markdown",
   "id": "86e6513d-007c-4d92-aaf1-79b357f66803",
   "metadata": {},
   "source": [
    "## Estimating weights"
   ]
  },
  {
   "cell_type": "code",
   "execution_count": 98,
   "id": "9ba5e775-4eef-4e6c-872b-1f8b96d6459a",
   "metadata": {},
   "outputs": [],
   "source": [
    "def make_loss_func(model, X, y):\n",
    "    def loss_fn(params):\n",
    "        pred = model.apply(params, X)\n",
    "        loss = optax.softmax_cross_entropy(pred, y).mean()\n",
    "        return loss\n",
    "    return loss_fn\n",
    "    # return jax.jit(loss_fn) # assuming top-levelled funciton is not jitted\n",
    "\n",
    "\n",
    "class MLPWide(nn.Module):\n",
    "    num_outputs: int\n",
    "    @nn.compact\n",
    "    def __call__(self, x):\n",
    "        # x = x.reshape(-1, 1)\n",
    "        x = nn.relu(nn.Dense(800)(x))\n",
    "        x = nn.relu(nn.Dense(500, name=\"last_layer\")(x))\n",
    "        x = nn.Dense(self.num_outputs)(x)\n",
    "        x = nn.log_softmax(x)\n",
    "        return x\n",
    "\n",
    "    \n",
    "def print_progress(epoch, loss, step_mod):\n",
    "    if epoch % step_mod == 0:\n",
    "        print(f\"Loss step ({epoch}: {loss:0.4e})\")\n",
    "\n",
    "\n",
    "@jax.jit\n",
    "def train_step(params, opt_state, X_batch, y_batch):\n",
    "    loss_fn = make_loss_func(model, X_batch, y_batch)\n",
    "    loss_grad_fn = jax.value_and_grad(loss_fn)\n",
    "    \n",
    "    loss_val, grads = loss_grad_fn(params)\n",
    "    updates, opt_state = tx.update(grads, opt_state)\n",
    "    params = optax.apply_updates(params, updates)\n",
    "    \n",
    "    return loss_val, params\n",
    "    \n",
    "\n",
    "def get_batch_train_ixs(key, num_samples, batch_size):\n",
    "    \"\"\"\n",
    "    Obtain the training indices to be used in an epoch of\n",
    "    mini-batch optimisation.\n",
    "    \"\"\"\n",
    "    steps_per_epoch = num_samples // batch_size\n",
    "    \n",
    "    batch_ixs = jax.random.permutation(key, num_samples)\n",
    "    batch_ixs = batch_ixs[:steps_per_epoch * batch_size]\n",
    "    batch_ixs = batch_ixs.reshape(steps_per_epoch, batch_size)\n",
    "    \n",
    "    return batch_ixs\n",
    "\n",
    "\n",
    "def train_epoch(key, params, opt_step, X, y, batch_size, epoch):\n",
    "    num_samples = len(X)\n",
    "    batch_ixs = get_batch_train_ixs(key, num_samples, batch_size)\n",
    "    \n",
    "    for batch_ix in batch_ixs:\n",
    "        X_batch = X[batch_ix, ...]\n",
    "        y_batch = y[batch_ix, ...]\n",
    "        loss, params = train_step(params, opt_step, X_batch, y_batch)\n",
    "    \n",
    "    return params, opt_step\n",
    "\n",
    "\n",
    "def proc_dataset(p, img_dataset, n_processes=90):\n",
    "    \"\"\"\n",
    "    Rotate all images of a dataset stored in a numpy array.\n",
    "    \n",
    "    Parameters\n",
    "    ----------\n",
    "    radius: float\n",
    "        Intensity of bluriness\n",
    "    img_dataset: array(N, L, K)\n",
    "        N images of size LxK\n",
    "    n_processes: int\n",
    "        Number of processes to blur over\n",
    "    \"\"\"\n",
    "    pool = Pool(processes=n_processes)\n",
    "    \n",
    "    dataset_proc = np.array_split(img_dataset, n_processes)\n",
    "    dataset_proc = pool.map(Corrupt(p), dataset_proc)\n",
    "    dataset_proc = np.concatenate(dataset_proc, axis=0)\n",
    "    \n",
    "    pool.close()\n",
    "    \n",
    "    return dataset_proc"
   ]
  },
  {
   "cell_type": "code",
   "execution_count": 99,
   "id": "41a30a7d-87b9-4cdf-9697-1b937579ddb9",
   "metadata": {},
   "outputs": [],
   "source": [
    "key = jax.random.PRNGKey(314)\n",
    "\n",
    "alpha = 0.001\n",
    "n_classes = 10\n",
    "n_subset = 5000\n",
    "batch_size = 2_000\n",
    "n_epochs = 150\n",
    "tx = optax.adam(learning_rate=alpha)\n",
    "\n",
    "model = MLPWide(n_classes)\n",
    "# X_train_ravel = X_train_proc.reshape(-1, 28 ** 2)\n",
    "# y_train_ohe = jax.nn.one_hot(y_train, n_classes)\n",
    "\n",
    "\n",
    "def train_model_config(key, deg, num_epochs):\n",
    "    X_train_proc = proc_dataset(deg, X_train, 90)\n",
    "    X_train_ravel = X_train_proc.reshape(-1, 28 ** 2)\n",
    "    y_train_ohe = jax.nn.one_hot(y_train, n_classes)\n",
    "\n",
    "    batch = jnp.ones((1, 28 ** 2))\n",
    "    params = model.init(key, batch)\n",
    "    opt_state = tx.init(params)\n",
    "\n",
    "    for e in range(num_epochs):\n",
    "        print(f\"@epoch {e+1:03}\", end=\"\\r\")\n",
    "        _, key = jax.random.split(key)\n",
    "        params, opt_state = train_epoch(key, params, opt_state, X_train_ravel, y_train_ohe, batch_size, e)\n",
    "\n",
    "    final_train_acc = (y_train == model.apply(params, X_train_ravel).argmax(axis=1)).mean().item()\n",
    "    print(f\"@{deg=:0.2f}, {final_train_acc=:0.4f}\")\n",
    "    \n",
    "    return params, final_train_acc"
   ]
  },
  {
   "cell_type": "code",
   "execution_count": null,
   "id": "b9c81c98-298b-4c6d-8312-401b3746de85",
   "metadata": {},
   "outputs": [
    {
     "name": "stdout",
     "output_type": "stream",
     "text": [
      "@deg=0.00, final_train_acc=1.0000\n",
      "@deg=0.01, final_train_acc=1.0000\n",
      "@deg=0.01, final_train_acc=0.9999\n",
      "@deg=0.02, final_train_acc=1.0000\n",
      "@deg=0.02, final_train_acc=1.0000\n",
      "@deg=0.03, final_train_acc=1.0000\n",
      "@deg=0.03, final_train_acc=1.0000\n",
      "@deg=0.04, final_train_acc=1.0000\n",
      "@deg=0.04, final_train_acc=1.0000\n",
      "@deg=0.05, final_train_acc=1.0000\n",
      "@deg=0.05, final_train_acc=1.0000\n",
      "@deg=0.06, final_train_acc=1.0000\n",
      "@deg=0.06, final_train_acc=1.0000\n",
      "@deg=0.07, final_train_acc=1.0000\n",
      "@deg=0.07, final_train_acc=1.0000\n",
      "@deg=0.08, final_train_acc=1.0000\n",
      "@deg=0.08, final_train_acc=1.0000\n"
     ]
    },
    {
     "name": "stderr",
     "output_type": "stream",
     "text": [
      "https://symbolize.stripped_domain/r/?trace=55f894d304ea,7f57a01433bf&map= \n",
      "*** SIGTERM received by PID 12518 (TID 12518) on cpu 24 from PID 9636; stack trace: ***\n",
      "PC: @     0x55f894d304ea  (unknown)  _PyFunction_Vectorcall\n",
      "    @     0x7f578f9ef7fa        992  (unknown)\n",
      "    @     0x7f57a01433c0  (unknown)  (unknown)\n",
      "    @ ... and at least 1 more frames\n",
      "https://symbolize.stripped_domain/r/?trace=55f894d304ea,7f578f9ef7f9,7f57a01433bf&map=7a511a57244151c993b16b37978e7ed7:7f5781017000-7f578fd59d50 \n",
      "E0217 16:05:13.257211   12518 coredump_hook.cc:320] RAW: Remote crash gathering disabled for SIGTERM.\n",
      "E0217 16:05:13.266554   12518 process_state.cc:770] RAW: Raising signal 15 with default behavior\n"
     ]
    },
    {
     "name": "stdout",
     "output_type": "stream",
     "text": [
      "@deg=0.09, final_train_acc=1.0000\n",
      "@deg=0.09, final_train_acc=1.0000\n",
      "@deg=0.10, final_train_acc=1.0000\n",
      "@deg=0.10, final_train_acc=1.0000\n",
      "@deg=0.11, final_train_acc=1.0000\n"
     ]
    },
    {
     "name": "stderr",
     "output_type": "stream",
     "text": [
      "https://symbolize.stripped_domain/r/?trace=55f894d7a24b,7f57a01433bf&map= \n",
      "*** SIGTERM received by PID 13105 (TID 13105) on cpu 81 from PID 9636; stack trace: ***\n",
      "PC: @     0x55f894d7a24b  (unknown)  _PyEval_EvalFrameDefault\n",
      "    @     0x7f578f9ef7fa        992  (unknown)\n",
      "    @     0x7f57a01433c0  (unknown)  (unknown)\n",
      "    @ ... and at least 1 more frames\n",
      "https://symbolize.stripped_domain/r/?trace=55f894d7a24b,7f578f9ef7f9,7f57a01433bf&map=7a511a57244151c993b16b37978e7ed7:7f5781017000-7f578fd59d50 \n",
      "E0217 16:09:12.497164   13105 coredump_hook.cc:320] RAW: Remote crash gathering disabled for SIGTERM.\n",
      "E0217 16:09:12.516153   13105 process_state.cc:770] RAW: Raising signal 15 with default behavior\n"
     ]
    },
    {
     "name": "stdout",
     "output_type": "stream",
     "text": [
      "@deg=0.11, final_train_acc=1.0000\n",
      "@deg=0.12, final_train_acc=1.0000\n",
      "@deg=0.12, final_train_acc=1.0000\n",
      "@deg=0.13, final_train_acc=1.0000\n",
      "@deg=0.13, final_train_acc=1.0000\n",
      "@deg=0.14, final_train_acc=1.0000\n",
      "@deg=0.14, final_train_acc=1.0000\n",
      "@deg=0.15, final_train_acc=1.0000\n",
      "@deg=0.15, final_train_acc=1.0000\n",
      "@deg=0.16, final_train_acc=0.9997\n",
      "@deg=0.16, final_train_acc=1.0000\n",
      "@deg=0.17, final_train_acc=1.0000\n",
      "@deg=0.17, final_train_acc=1.0000\n",
      "@deg=0.18, final_train_acc=0.9999\n",
      "@deg=0.18, final_train_acc=1.0000\n",
      "@deg=0.19, final_train_acc=0.9999\n",
      "@deg=0.19, final_train_acc=0.9994\n"
     ]
    },
    {
     "name": "stderr",
     "output_type": "stream",
     "text": [
      "https://symbolize.stripped_domain/r/?trace=55f894d0bddb,7f57a01433bf,55f894f3711f&map=https://symbolize.stripped_domain/r/?trace=55f894d75a88,7f57a01433bf&map= \n",
      "*** SIGTERM received by PID 14794 (TID 14794) on cpu 25 from PID 9636; stack trace: ***\n",
      "https://symbolize.stripped_domain/r/?trace=https://symbolize.stripped_domain/r/?trace=55f894d75a88,55f894d75a88,7f57a01433bf7f57a01433bf&map=&map=https://symbolize.stripped_domain/r/?trace=55f894cd522e,7f57a01433bf,55f894f34cff,55f894f37ebf&map= \n",
      " \n",
      " \n",
      "*** SIGTERM received by PID 14804 (TID 14804) on cpu 94 from PID 9636; stack trace: ***\n",
      " \n",
      "*** SIGTERM received by PID 14796 (TID 14796) on cpu 74 from PID 9636; stack trace: ***\n",
      "*** SIGTERM received by PID 14799 (TID 14799) on cpu 75 from PID 9636; stack trace: ***\n",
      "*** SIGTERM received by PID 14795 (TID 14795) on cpu 36 from PID 9636; stack trace: ***\n",
      "https://symbolize.stripped_domain/r/?trace=55f894d79dff,7f57a01433bf,7f566456447f,55f894f13bff&map= \n",
      "*** SIGTERM received by PID 14809 (TID 14809) on cpu 87 from PID 9636; stack trace: ***\n",
      "https://symbolize.stripped_domain/r/?trace=55f894d75a88,7f57a01433bf&map= \n",
      "*** SIGTERM received by PID 14810 (TID 14810) on cpu 34 from PID 9636; stack trace: ***\n",
      "PC: @     0x55f894d75a88  (unknown)  _PyEval_EvalFrameDefault\n",
      "    @     0x7f578f9ef7fa        992  (unknown)\n",
      "    @     0x7f57a01433c0  (unknown)  (unknown)\n",
      "    @ ... and at least 1 more frames\n",
      "https://symbolize.stripped_domain/r/?trace=55f894d75a88,7f578f9ef7f9,7f57a01433bf&map=7a511a57244151c993b16b37978e7ed7:7f5781017000-7f578fd59d50 \n",
      "E0217 16:22:36.508970   14794 coredump_hook.cc:320] RAW: Remote crash gathering disabled for SIGTERM.\n",
      "PC: @     0x55f894d75a88  (unknown)  _PyEval_EvalFrameDefault\n",
      "    @     0x7f578f9ef7fa        992  (unknown)\n",
      "    @     0x7f57a01433c0  (unknown)  (unknown)\n",
      "    @ ... and at least 1 more frames\n",
      "https://symbolize.stripped_domain/r/?trace=55f894d75a88,7f578f9ef7f9,7f57a01433bf&map=7a511a57244151c993b16b37978e7ed7:7f5781017000-7f578fd59d50 \n",
      "E0217 16:22:36.509405   14795 coredump_hook.cc:320] RAW: Remote crash gathering disabled for SIGTERM.\n",
      "PC: @     0x55f894d0bddb  (unknown)  insertdict\n",
      "PC: @     0x55f894d75a88  (unknown)  _PyEval_EvalFrameDefault\n",
      "PC: @     0x55f894d79dff  (unknown)  _PyEval_EvalFrameDefault\n",
      "    @     0x7f578f9ef7fa        992  (unknown)\n",
      "    @     0x7f578f9ef7fa        992  (unknown)\n",
      "    @     0x7f578f9ef7fa        992  (unknown)\n",
      "    @     0x7f57a01433c0  482069200  (unknown)\n",
      "    @     0x7f57a01433c0  (unknown)  (unknown)\n",
      "    @ ... and at least 1 more frames\n",
      "https://symbolize.stripped_domain/r/?trace=    @     0x7f57a01433c0  (unknown)  (unknown)\n",
      "55f894d75a88,7f578f9ef7f9,7f57a01433bf&map=7a511a57244151c993b16b37978e7ed7:7f5781017000-7f578fd59d50 \n",
      "E0217 16:22:36.509658   14799 coredump_hook.cc:320] RAW: Remote crash gathering disabled for SIGTERM.\n",
      "PC: @     0x55f894cd522e  (unknown)  PyObject_GC_UnTrack\n",
      "    @     0x7f578f9ef7fa        992  (unknown)\n",
      "    @     0x7f57a01433c0  (unknown)  (unknown)\n",
      "PC: @     0x55f894d75a88  (unknown)  _PyEval_EvalFrameDefault\n",
      "    @     0x7f578f9ef7fa        992  (unknown)\n",
      "    @     0x7f57a01433c0  (unknown)  (unknown)\n",
      "    @ ... and at least 1 more frames\n",
      "https://symbolize.stripped_domain/r/?trace=55f894d75a88,7f578f9ef7f9,7f57a01433bf&map=7a511a57244151c993b16b37978e7ed7:7f5781017000-7f578fd59d50 \n",
      "E0217 16:22:36.510847   14810 coredump_hook.cc:320] RAW: Remote crash gathering disabled for SIGTERM.\n",
      "    @     0x55f894f37120  (unknown)  (unknown)\n",
      "    @     0x7f5664564480  607556120  (unknown)\n",
      "https://symbolize.stripped_domain/r/?trace=55f894d0bddb,7f578f9ef7f9,7f57a01433bf,55f894f3711f&map=7a511a57244151c993b16b37978e7ed7:7f5781017000-7f578fd59d50 \n",
      "E0217 16:22:36.515311   14796 coredump_hook.cc:320] RAW: Remote crash gathering disabled for SIGTERM.\n",
      "    @     0x55f894f34d00  1773643480  (unknown)\n",
      "E0217 16:22:36.524038   14794 process_state.cc:770] RAW: Raising signal 15 with default behavior\n",
      "    @     0x55f894f13c00  (unknown)  (unknown)\n",
      "https://symbolize.stripped_domain/r/?trace=55f894d79dff,7f578f9ef7f9,7f57a01433bf,7f566456447f,55f894f13bff&map=7a511a57244151c993b16b37978e7ed7:7f5781017000-7f578fd59d50 \n",
      "E0217 16:22:36.526059   14809 coredump_hook.cc:320] RAW: Remote crash gathering disabled for SIGTERM.\n",
      "    @     0x55f894f37ec0  (unknown)  (unknown)\n",
      "https://symbolize.stripped_domain/r/?trace=55f894cd522e,7f578f9ef7f9,7f57a01433bf,55f894f34cff,55f894f37ebf&map=7a511a57244151c993b16b37978e7ed7:7f5781017000-7f578fd59d50 \n",
      "E0217 16:22:36.529171   14804 coredump_hook.cc:320] RAW: Remote crash gathering disabled for SIGTERM.\n",
      "E0217 16:22:36.529796   14795 process_state.cc:770] RAW: Raising signal 15 with default behavior\n",
      "E0217 16:22:36.530307   14799 process_state.cc:770] RAW: Raising signal 15 with default behavior\n",
      "E0217 16:22:36.530817   14810 process_state.cc:770] RAW: Raising signal 15 with default behavior\n",
      "E0217 16:22:36.548452   14796 process_state.cc:770] RAW: Raising signal 15 with default behavior\n",
      "E0217 16:22:36.569322   14809 process_state.cc:770] RAW: Raising signal 15 with default behavior\n",
      "E0217 16:22:36.569771   14804 process_state.cc:770] RAW: Raising signal 15 with default behavior\n"
     ]
    },
    {
     "name": "stdout",
     "output_type": "stream",
     "text": [
      "@deg=0.20, final_train_acc=1.0000\n",
      "@deg=0.20, final_train_acc=1.0000\n",
      "@deg=0.21, final_train_acc=0.9997\n",
      "@deg=0.21, final_train_acc=0.9993\n",
      "@deg=0.22, final_train_acc=0.9999\n",
      "@deg=0.22, final_train_acc=0.9997\n",
      "@deg=0.23, final_train_acc=0.9997\n",
      "@deg=0.23, final_train_acc=0.9997\n",
      "@deg=0.24, final_train_acc=0.9994\n",
      "@deg=0.24, final_train_acc=0.9992\n",
      "@deg=0.25, final_train_acc=0.9992\n",
      "@deg=0.25, final_train_acc=0.9994\n",
      "@deg=0.26, final_train_acc=0.9999\n",
      "@deg=0.26, final_train_acc=0.9995\n"
     ]
    },
    {
     "name": "stderr",
     "output_type": "stream",
     "text": [
      "https://symbolize.stripped_domain/r/?trace=https://symbolize.stripped_domain/r/?trace=55f894ce0ac2,7f57a01433bf,55f894f3711f&map=55f894ce0ac2,7f57a01433bf,55f894f3711f \n",
      "&map= \n",
      "*** SIGTERM received by PID 16162 (TID 16162) on cpu 33 from PID 9636; stack trace: ***\n",
      "*** SIGTERM received by PID 16149 (TID 16149) on cpu 26 from PID 9636; stack trace: ***\n",
      "PC: @     0x55f894ce0ac2  (unknown)  PyObject_GetAttr\n",
      "PC: @     0x55f894ce0ac2  (unknown)  PyObject_GetAttr\n",
      "    @     0x7f578f9ef7fa        992  (unknown)\n",
      "    @     0x7f57a01433c0  482111248  (unknown)\n",
      "    @     0x7f578f9ef7fa        992  (unknown)\n",
      "    @     0x7f57a01433c0  482111248  (unknown)\n",
      "    @     0x55f894f37120  (unknown)  (unknown)\n",
      "https://symbolize.stripped_domain/r/?trace=55f894ce0ac2,7f578f9ef7f9,7f57a01433bf,55f894f3711f&map=7a511a57244151c993b16b37978e7ed7:7f5781017000-7f578fd59d50 \n",
      "E0217 16:33:29.217931   16149 coredump_hook.cc:320] RAW: Remote crash gathering disabled for SIGTERM.\n",
      "    @     0x55f894f37120  (unknown)  (unknown)\n",
      "https://symbolize.stripped_domain/r/?trace=55f894ce0ac2,7f578f9ef7f9,7f57a01433bf,55f894f3711f&map=7a511a57244151c993b16b37978e7ed7:7f5781017000-7f578fd59d50 \n",
      "E0217 16:33:29.223972   16162 coredump_hook.cc:320] RAW: Remote crash gathering disabled for SIGTERM.\n",
      "E0217 16:33:29.253784   16162 process_state.cc:770] RAW: Raising signal 15 with default behavior\n",
      "E0217 16:33:29.254721   16149 process_state.cc:770] RAW: Raising signal 15 with default behavior\n"
     ]
    },
    {
     "name": "stdout",
     "output_type": "stream",
     "text": [
      "@deg=0.27, final_train_acc=0.9994\n",
      "@deg=0.27, final_train_acc=0.9991\n",
      "@deg=0.28, final_train_acc=0.9996\n",
      "@deg=0.28, final_train_acc=0.9987\n",
      "@deg=0.29, final_train_acc=0.9983\n",
      "@deg=0.29, final_train_acc=0.9978\n",
      "@deg=0.30, final_train_acc=0.9995\n",
      "@deg=0.30, final_train_acc=0.9981\n",
      "@deg=0.31, final_train_acc=0.9952\n"
     ]
    },
    {
     "name": "stderr",
     "output_type": "stream",
     "text": [
      "https://symbolize.stripped_domain/r/?trace=55f894d78e39,7f57a01433bf,7f56646e603f,55f894f40a3f&map= \n",
      "*** SIGTERM received by PID 17078 (TID 17078) on cpu 28 from PID 9636; stack trace: ***\n",
      "PC: @     0x55f894d78e39  (unknown)  _PyEval_EvalFrameDefault\n",
      "    @     0x7f578f9ef7fa        992  (unknown)\n",
      "    @     0x7f57a01433c0  (unknown)  (unknown)\n",
      "    @     0x7f56646e6040  (unknown)  (unknown)\n",
      "    @     0x55f894f40a40  (unknown)  (unknown)\n",
      "https://symbolize.stripped_domain/r/?trace=55f894d78e39,7f578f9ef7f9,7f57a01433bf,7f56646e603f,55f894f40a3f&map=7a511a57244151c993b16b37978e7ed7:7f5781017000-7f578fd59d50 \n",
      "E0217 16:40:42.483615   17078 coredump_hook.cc:320] RAW: Remote crash gathering disabled for SIGTERM.\n",
      "E0217 16:40:42.510886   17078 process_state.cc:770] RAW: Raising signal 15 with default behavior\n"
     ]
    },
    {
     "name": "stdout",
     "output_type": "stream",
     "text": [
      "@deg=0.31, final_train_acc=0.9996\n",
      "@deg=0.32, final_train_acc=0.9863\n",
      "@deg=0.32, final_train_acc=0.9882\n",
      "@deg=0.33, final_train_acc=0.9866\n",
      "@deg=0.33, final_train_acc=0.9934\n",
      "@deg=0.34, final_train_acc=0.9888\n",
      "@deg=0.34, final_train_acc=0.9905\n",
      "@deg=0.35, final_train_acc=0.9827\n",
      "@deg=0.35, final_train_acc=0.9802\n",
      "@deg=0.36, final_train_acc=0.9753\n",
      "@deg=0.36, final_train_acc=0.9721\n",
      "@deg=0.37, final_train_acc=0.9769\n",
      "@deg=0.37, final_train_acc=0.9801\n",
      "@deg=0.38, final_train_acc=0.9689\n",
      "@deg=0.38, final_train_acc=0.9664\n",
      "@deg=0.39, final_train_acc=0.9596\n",
      "@deg=0.39, final_train_acc=0.9667\n",
      "@deg=0.40, final_train_acc=0.9670\n",
      "@deg=0.40, final_train_acc=0.9546\n",
      "@deg=0.41, final_train_acc=0.9489\n",
      "@deg=0.41, final_train_acc=0.9604\n",
      "@deg=0.42, final_train_acc=0.9492\n",
      "@deg=0.42, final_train_acc=0.9395\n",
      "@deg=0.43, final_train_acc=0.9451\n",
      "@deg=0.43, final_train_acc=0.9392\n",
      "@deg=0.44, final_train_acc=0.9321\n",
      "@deg=0.44, final_train_acc=0.9468\n",
      "@deg=0.45, final_train_acc=0.9378\n",
      "@deg=0.45, final_train_acc=0.9485\n",
      "@deg=0.46, final_train_acc=0.9323\n",
      "@deg=0.46, final_train_acc=0.9333\n",
      "@deg=0.47, final_train_acc=0.9326\n",
      "@deg=0.47, final_train_acc=0.9181\n",
      "@deg=0.48, final_train_acc=0.9326\n",
      "@deg=0.48, final_train_acc=0.8886\n"
     ]
    },
    {
     "name": "stderr",
     "output_type": "stream",
     "text": [
      "https://symbolize.stripped_domain/r/?trace=7f57a0141a65,7f57a01433bf&map= \n",
      "*** SIGTERM received by PID 20701 (TID 20701) on cpu 1 from PID 9636; stack trace: ***\n",
      "PC: @     0x7f57a0141a65  (unknown)  sem_post@@GLIBC_2.2.5\n",
      "    @     0x7f578f9ef7fa        992  (unknown)\n",
      "    @     0x7f57a01433c0  (unknown)  (unknown)\n",
      "    @ ... and at least 1 more frames\n",
      "https://symbolize.stripped_domain/r/?trace=7f57a0141a65,7f578f9ef7f9,7f57a01433bf&map=7a511a57244151c993b16b37978e7ed7:7f5781017000-7f578fd59d50 \n",
      "E0217 17:08:48.447794   20701 coredump_hook.cc:320] RAW: Remote crash gathering disabled for SIGTERM.\n",
      "https://symbolize.stripped_domain/r/?trace=7f57a0141a65,7f57a01433bf&map= \n",
      "*** SIGTERM received by PID 20704 (TID 20704) on cpu 50 from PID 9636; stack trace: ***\n",
      "PC: @     0x7f57a0141a65  (unknown)  sem_post@@GLIBC_2.2.5\n",
      "    @     0x7f578f9ef7fa        992  (unknown)\n",
      "    @     0x7f57a01433c0  (unknown)  (unknown)\n",
      "    @ ... and at least 1 more frames\n",
      "https://symbolize.stripped_domain/r/?trace=7f57a0141a65,7f578f9ef7f9,7f57a01433bf&map=7a511a57244151c993b16b37978e7ed7:7f5781017000-7f578fd59d50 \n",
      "E0217 17:08:48.454896   20704 coredump_hook.cc:320] RAW: Remote crash gathering disabled for SIGTERM.\n",
      "E0217 17:08:48.465879   20701 process_state.cc:770] RAW: Raising signal 15 with default behavior\n",
      "E0217 17:08:48.470092   20704 process_state.cc:770] RAW: Raising signal 15 with default behavior\n"
     ]
    },
    {
     "name": "stdout",
     "output_type": "stream",
     "text": [
      "@deg=0.49, final_train_acc=0.9044\n",
      "@deg=0.49, final_train_acc=0.9168\n",
      "@deg=0.50, final_train_acc=0.8722\n"
     ]
    },
    {
     "name": "stderr",
     "output_type": "stream",
     "text": [
      "https://symbolize.stripped_domain/r/?trace=7f57a0141a65,7f57a01433bf&map= \n",
      "*** SIGTERM received by PID 21000 (TID 21000) on cpu 22 from PID 9636; stack trace: ***\n",
      "PC: @     0x7f57a0141a65  (unknown)  sem_post@@GLIBC_2.2.5\n",
      "    @     0x7f578f9ef7fa        992  (unknown)\n",
      "    @     0x7f57a01433c0  (unknown)  (unknown)\n",
      "    @ ... and at least 1 more frames\n",
      "https://symbolize.stripped_domain/r/?trace=7f57a0141a65,7f578f9ef7f9,7f57a01433bf&map=7a511a57244151c993b16b37978e7ed7:7f5781017000-7f578fd59d50 \n",
      "E0217 17:11:13.536979   21000 coredump_hook.cc:320] RAW: Remote crash gathering disabled for SIGTERM.\n",
      "E0217 17:11:13.551733   21000 process_state.cc:770] RAW: Raising signal 15 with default behavior\n"
     ]
    },
    {
     "name": "stdout",
     "output_type": "stream",
     "text": [
      "@deg=0.50, final_train_acc=0.9244\n",
      "@deg=0.51, final_train_acc=0.8940\n",
      "@deg=0.51, final_train_acc=0.9008\n",
      "@deg=0.52, final_train_acc=0.8803\n",
      "@deg=0.52, final_train_acc=0.9070\n",
      "@deg=0.53, final_train_acc=0.8866\n",
      "@deg=0.53, final_train_acc=0.8824\n"
     ]
    },
    {
     "name": "stderr",
     "output_type": "stream",
     "text": [
      "https://symbolize.stripped_domain/r/?trace=55f894d705da,7f57a01433bf,55f894f2ef5f&map= \n",
      "*** SIGTERM received by PID 21631 (TID 21631) on cpu 4 from PID 9636; stack trace: ***\n",
      "PC: @     0x55f894d705da  (unknown)  PyObject_SetAttr\n",
      "    @     0x7f578f9ef7fa        992  (unknown)\n",
      "    @     0x7f57a01433c0  480201024  (unknown)\n",
      "    @     0x55f894f2ef60  (unknown)  (unknown)\n",
      "https://symbolize.stripped_domain/r/?trace=55f894d705da,7f578f9ef7f9,7f57a01433bf,55f894f2ef5f&map=7a511a57244151c993b16b37978e7ed7:7f5781017000-7f578fd59d50 \n",
      "E0217 17:16:54.745191   21631 coredump_hook.cc:320] RAW: Remote crash gathering disabled for SIGTERM.\n",
      "E0217 17:16:54.769245   21631 process_state.cc:770] RAW: Raising signal 15 with default behavior\n"
     ]
    },
    {
     "name": "stdout",
     "output_type": "stream",
     "text": [
      "@deg=0.54, final_train_acc=0.8895\n",
      "@deg=0.54, final_train_acc=0.8816\n",
      "@deg=0.55, final_train_acc=0.8388\n",
      "@deg=0.55, final_train_acc=0.8701\n",
      "@deg=0.56, final_train_acc=0.8754\n",
      "@deg=0.56, final_train_acc=0.8620\n",
      "@deg=0.57, final_train_acc=0.7219\n"
     ]
    },
    {
     "name": "stderr",
     "output_type": "stream",
     "text": [
      "https://symbolize.stripped_domain/r/?trace=55f894d0bddb,7f57a01433bf,55f894f3711f&map= \n",
      "*** SIGTERM received by PID 22343 (TID 22343) on cpu 67 from PID 9636; stack trace: ***\n",
      "PC: @     0x55f894d0bddb  (unknown)  insertdict\n",
      "    @     0x7f578f9ef7fa        992  (unknown)\n",
      "    @     0x7f57a01433c0  472555600  (unknown)\n",
      "    @     0x55f894f37120  (unknown)  (unknown)\n",
      "https://symbolize.stripped_domain/r/?trace=55f894d0bddb,7f578f9ef7f9,7f57a01433bf,55f894f3711f&map=7a511a57244151c993b16b37978e7ed7:7f5781017000-7f578fd59d50 \n",
      "E0217 17:22:35.762472   22343 coredump_hook.cc:320] RAW: Remote crash gathering disabled for SIGTERM.\n",
      "E0217 17:22:35.789346   22343 process_state.cc:770] RAW: Raising signal 15 with default behavior\n"
     ]
    },
    {
     "name": "stdout",
     "output_type": "stream",
     "text": [
      "@deg=0.57, final_train_acc=0.8587\n",
      "@deg=0.58, final_train_acc=0.8572\n",
      "@deg=0.58, final_train_acc=0.8504\n",
      "@deg=0.59, final_train_acc=0.8496\n"
     ]
    },
    {
     "name": "stderr",
     "output_type": "stream",
     "text": [
      "https://symbolize.stripped_domain/r/?trace=55f894ceb569,7f57a01433bf,7f579fa0a12f&map= \n",
      "*** SIGTERM received by PID 22815 (TID 22815) on cpu 88 from PID 9636; stack trace: ***\n",
      "PC: @     0x55f894ceb569  (unknown)  _PyType_Lookup\n",
      "    @     0x7f578f9ef7fa        992  (unknown)\n",
      "    @     0x7f57a01433c0  (unknown)  (unknown)\n",
      "    @     0x7f579fa0a130  (unknown)  (unknown)\n",
      "https://symbolize.stripped_domain/r/?trace=55f894ceb569,7f578f9ef7f9,7f57a01433bf,7f579fa0a12f&map=7a511a57244151c993b16b37978e7ed7:7f5781017000-7f578fd59d50 \n",
      "E0217 17:25:49.892186   22815 coredump_hook.cc:320] RAW: Remote crash gathering disabled for SIGTERM.\n",
      "E0217 17:25:49.928299   22815 process_state.cc:770] RAW: Raising signal 15 with default behavior\n"
     ]
    },
    {
     "name": "stdout",
     "output_type": "stream",
     "text": [
      "@deg=0.59, final_train_acc=0.8523\n",
      "@deg=0.60, final_train_acc=0.8259\n"
     ]
    },
    {
     "name": "stderr",
     "output_type": "stream",
     "text": [
      "https://symbolize.stripped_domain/r/?trace=55f894d30ac1,7f57a01433bf&map= \n",
      "*** SIGTERM received by PID 23032 (TID 23032) on cpu 54 from PID 9636; stack trace: ***\n",
      "PC: @     0x55f894d30ac1  (unknown)  _PyFunction_Vectorcall\n",
      "    @     0x7f578f9ef7fa        992  (unknown)\n",
      "    @     0x7f57a01433c0  (unknown)  (unknown)\n",
      "    @ ... and at least 1 more frames\n",
      "https://symbolize.stripped_domain/r/?trace=55f894d30ac1,7f578f9ef7f9,7f57a01433bf&map=7a511a57244151c993b16b37978e7ed7:7f5781017000-7f578fd59d50 \n",
      "E0217 17:27:27.790011   23032 coredump_hook.cc:320] RAW: Remote crash gathering disabled for SIGTERM.\n",
      "E0217 17:27:27.805101   23032 process_state.cc:770] RAW: Raising signal 15 with default behavior\n"
     ]
    },
    {
     "name": "stdout",
     "output_type": "stream",
     "text": [
      "@deg=0.60, final_train_acc=0.8419\n",
      "@epoch 037\r"
     ]
    }
   ],
   "source": [
    "hist_params = []\n",
    "hist_accuracy = []\n",
    "\n",
    "degrees = jnp.linspace(0, 1, 200)\n",
    "\n",
    "time_start = time()\n",
    "for deg in degrees:\n",
    "    deg = deg.item()\n",
    "    params, train_acc = train_model_config(key, deg, n_epochs)\n",
    "    \n",
    "    hist_accuracy.append(train_acc)\n",
    "    hist_params.append(params)\n",
    "\n",
    "hist_accuracy = jnp.array(hist_accuracy)\n",
    "time_end = time()\n",
    "time_total = time_end - time_start\n",
    "\n",
    "print(f\"Total running time: {time_total:0.2f}s\")"
   ]
  },
  {
   "cell_type": "code",
   "execution_count": null,
   "id": "c7a5ccad-ed88-403f-8714-e828e8ea7a17",
   "metadata": {},
   "outputs": [],
   "source": [
    "hist_params_flat = dojax.flat_and_concat_params(hist_params)\n",
    "jnp.save(\"mnist_corrupt_params.npy\", hist_params_flat)"
   ]
  },
  {
   "cell_type": "code",
   "execution_count": 138,
   "id": "cb79de03-4168-48a4-815a-326b193315c9",
   "metadata": {},
   "outputs": [],
   "source": [
    "proj = PCA(n_components=2)\n",
    "# proj = TSNE(n_components=2, init=\"pca\", random_state=314,\n",
    "#             perplexity=30, learning_rate=\"auto\")\n",
    "params_proj = proj.fit_transform(hist_params_flat)"
   ]
  },
  {
   "cell_type": "code",
   "execution_count": 143,
   "id": "05248e94-b717-4d71-a4cc-6de2912c75aa",
   "metadata": {},
   "outputs": [
    {
     "data": {
      "text/plain": [
       "Text(0, 0.5, 'Accuracy')"
      ]
     },
     "execution_count": 143,
     "metadata": {},
     "output_type": "execute_result"
    },
    {
     "data": {
      "image/png": "[encoded data removed]",
      "text/plain": [
       "<Figure size 864x288 with 3 Axes>"
      ]
     },
     "metadata": {
      "image/png": {
       "height": 277,
       "width": 687
      },
      "needs_background": "light"
     },
     "output_type": "display_data"
    }
   ],
   "source": [
    "fig, ax = plt.subplots(1, 2, figsize=(12, 4))\n",
    "\n",
    "ax[0].set_title(\"Projected weight dynamics: MNIST\")\n",
    "p = ax[0].scatter(*params_proj.T, c=degrees)\n",
    "fig.colorbar(p, ax=ax[0], label=\"p-noise\")\n",
    "ax[0].tick_params(axis=\"both\", labelleft=False, labelbottom=False)\n",
    "ax[0].axis(\"equal\")\n",
    "\n",
    "ax[1].set_title(\"Accuracy\")\n",
    "ax[1].scatter(degrees, hist_accuracy, c=degrees)\n",
    "ax[1].set_xlabel(\"Radius\")\n",
    "ax[1].set_ylabel(\"Accuracy\")"
   ]
  }
 ],
 "metadata": {
  "kernelspec": {
   "display_name": "Python 3 (ipykernel)",
   "language": "python",
   "name": "python3"
  },
  "language_info": {
   "codemirror_mode": {
    "name": "ipython",
    "version": 3
   },
   "file_extension": ".py",
   "mimetype": "text/x-python",
   "name": "python",
   "nbconvert_exporter": "python",
   "pygments_lexer": "ipython3",
   "version": "3.9.5"
  }
 },
 "nbformat": 4,
 "nbformat_minor": 5
}
